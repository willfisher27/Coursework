{
 "cells": [
  {
   "cell_type": "markdown",
   "id": "d5679e2c-a00b-4141-ac54-5dc15a85c909",
   "metadata": {},
   "source": [
    "# William Fisher DATA 22100 Midterm Project"
   ]
  },
  {
   "cell_type": "markdown",
   "id": "5e5f1b95-5976-4f6d-86c3-1cb7749925e1",
   "metadata": {},
   "source": [
    "This notebook includes code for the non-vectorised Multinomial Naive Bayes classifier and for analyzing word frequency in the entire dataset."
   ]
  },
  {
   "cell_type": "code",
   "execution_count": 1,
   "id": "ee6f50b9-9645-4538-bd2b-8a433aaa038f",
   "metadata": {},
   "outputs": [],
   "source": [
    "import pandas as pd\n",
    "import numpy as np\n",
    "import io\n",
    "import pickle\n",
    "import re\n",
    "import string\n",
    "\n",
    "import nltk\n",
    "\n",
    "import matplotlib.pyplot as plt\n",
    "import seaborn as sns\n",
    "\n",
    "import scipy.stats as st\n",
    "from scipy.optimize import minimize\n",
    "\n",
    "from sklearn.model_selection import train_test_split\n",
    "from sklearn.naive_bayes import MultinomialNB, ComplementNB\n",
    "from sklearn.utils.extmath import randomized_svd\n",
    "from sklearn import metrics\n",
    "\n",
    "plt.style.use(\"default\")\n",
    "params = {\"axes.labelsize\": 20, \"axes.titlesize\": 20,\\\n",
    "          \"font.size\": 20, \"legend.fontsize\": 20,\\\n",
    "          \"xtick.labelsize\": 20, \"ytick.labelsize\": 20,\\\n",
    "          \"xtick.major.width\": 3, 'xtick.major.size':10,\\\n",
    "          \"ytick.major.width\": 3, 'ytick.major.size':10,\\\n",
    "          \"savefig.bbox\": \"tight\", \"savefig.dpi\": 600, 'savefig.format': 'png'}\n",
    "plt.rcParams.update(params)"
   ]
  },
  {
   "cell_type": "markdown",
   "id": "06a7d05f-8eed-4441-a2c4-bc08c7e15202",
   "metadata": {},
   "source": [
    "Data is from https://botometer.osome.iu.edu/bot-repository/datasets.html <br>\n",
    "cresci-2017"
   ]
  },
  {
   "cell_type": "markdown",
   "id": "1ec1f822-cb7a-4497-918b-58844cc5c706",
   "metadata": {},
   "source": [
    "**Goal:** Build a Multinomial Naive Bayes to predict bot Twitter accounts. Only using word frquency in tweets."
   ]
  },
  {
   "cell_type": "markdown",
   "id": "e53ed5d7-4f28-4f95-9d5c-c6f8bb52d449",
   "metadata": {},
   "source": [
    "## Read in data"
   ]
  },
  {
   "cell_type": "code",
   "execution_count": 2,
   "id": "c60637d3-c726-46df-8ac7-be658814be3f",
   "metadata": {
    "tags": []
   },
   "outputs": [
    {
     "name": "stderr",
     "output_type": "stream",
     "text": [
      "/Users/alancooper/opt/anaconda3/lib/python3.7/site-packages/IPython/core/interactiveshell.py:3444: DtypeWarning: Columns (0,3) have mixed types.Specify dtype option on import or set low_memory=False.\n",
      "  exec(code_obj, self.user_global_ns, self.user_ns)\n"
     ]
    }
   ],
   "source": [
    "# Genuine accounts\n",
    "df_open = io.open(\"cresci-2017.csv/datasets_full.csv/genuine_accounts.csv/tweets.csv\", encoding='latin-1')\n",
    "columns = pd.read_csv(df_open, nrows=0).columns\n",
    "human_df = pd.read_csv(df_open, header = None, names = columns)\n",
    "human_df[\"bot_or_not\"] = \"human\""
   ]
  },
  {
   "cell_type": "code",
   "execution_count": 3,
   "id": "94a4af1e-21c1-4156-a5ac-fa9628662bdd",
   "metadata": {},
   "outputs": [
    {
     "data": {
      "text/plain": [
       "(2838679, 26)"
      ]
     },
     "execution_count": 3,
     "metadata": {},
     "output_type": "execute_result"
    }
   ],
   "source": [
    "human_df.shape"
   ]
  },
  {
   "cell_type": "code",
   "execution_count": 4,
   "id": "728e0d85-eaf7-4352-9a6d-bec38496eacc",
   "metadata": {},
   "outputs": [
    {
     "data": {
      "text/html": [
       "<div>\n",
       "<style scoped>\n",
       "    .dataframe tbody tr th:only-of-type {\n",
       "        vertical-align: middle;\n",
       "    }\n",
       "\n",
       "    .dataframe tbody tr th {\n",
       "        vertical-align: top;\n",
       "    }\n",
       "\n",
       "    .dataframe thead th {\n",
       "        text-align: right;\n",
       "    }\n",
       "</style>\n",
       "<table border=\"1\" class=\"dataframe\">\n",
       "  <thead>\n",
       "    <tr style=\"text-align: right;\">\n",
       "      <th></th>\n",
       "      <th>id</th>\n",
       "      <th>text</th>\n",
       "      <th>source</th>\n",
       "      <th>user_id</th>\n",
       "      <th>truncated</th>\n",
       "      <th>in_reply_to_status_id</th>\n",
       "      <th>in_reply_to_user_id</th>\n",
       "      <th>in_reply_to_screen_name</th>\n",
       "      <th>retweeted_status_id</th>\n",
       "      <th>geo</th>\n",
       "      <th>...</th>\n",
       "      <th>retweeted</th>\n",
       "      <th>possibly_sensitive</th>\n",
       "      <th>num_hashtags</th>\n",
       "      <th>num_urls</th>\n",
       "      <th>num_mentions</th>\n",
       "      <th>created_at</th>\n",
       "      <th>timestamp</th>\n",
       "      <th>crawled_at</th>\n",
       "      <th>updated</th>\n",
       "      <th>bot_or_not</th>\n",
       "    </tr>\n",
       "  </thead>\n",
       "  <tbody>\n",
       "    <tr>\n",
       "      <th>0</th>\n",
       "      <td>Mar 19 20:59:26 +0000 2015\"</td>\n",
       "      <td>2015-03-19 21:59:26</td>\n",
       "      <td>2015-05-01 12:57:19</td>\n",
       "      <td>2015-05-01 12:57:19</td>\n",
       "      <td>NaN</td>\n",
       "      <td>NaN</td>\n",
       "      <td>NaN</td>\n",
       "      <td>NaN</td>\n",
       "      <td>NaN</td>\n",
       "      <td>NaN</td>\n",
       "      <td>...</td>\n",
       "      <td>NaN</td>\n",
       "      <td>NaN</td>\n",
       "      <td>NaN</td>\n",
       "      <td>NaN</td>\n",
       "      <td>NaN</td>\n",
       "      <td>NaN</td>\n",
       "      <td>NaN</td>\n",
       "      <td>NaN</td>\n",
       "      <td>NaN</td>\n",
       "      <td>human</td>\n",
       "    </tr>\n",
       "    <tr>\n",
       "      <th>1</th>\n",
       "      <td>578656013127163905</td>\n",
       "      <td>@debs @kevinmarks @TummelVision this is report...</td>\n",
       "      <td>&lt;a href=\"http://twitter.com\" rel=\"nofollow\"&gt;Tw...</td>\n",
       "      <td>678033</td>\n",
       "      <td>NaN</td>\n",
       "      <td>5.786542e+17</td>\n",
       "      <td>1.184800e+04</td>\n",
       "      <td>debs</td>\n",
       "      <td>0.0</td>\n",
       "      <td>NaN</td>\n",
       "      <td>...</td>\n",
       "      <td>NaN</td>\n",
       "      <td>NaN</td>\n",
       "      <td>0.0</td>\n",
       "      <td>0.0</td>\n",
       "      <td>3.0</td>\n",
       "      <td>Thu Mar 19 20:35:19 +0000 2015</td>\n",
       "      <td>2015-03-19 21:35:19</td>\n",
       "      <td>2015-05-01 12:57:19</td>\n",
       "      <td>2015-05-01 12:57:19</td>\n",
       "      <td>human</td>\n",
       "    </tr>\n",
       "    <tr>\n",
       "      <th>2</th>\n",
       "      <td>578654044840919040</td>\n",
       "      <td>@ThreemaApp Apple App store not downloading Th...</td>\n",
       "      <td>&lt;a href=\"http://twitter.com\" rel=\"nofollow\"&gt;Tw...</td>\n",
       "      <td>678033</td>\n",
       "      <td>NaN</td>\n",
       "      <td>0.000000e+00</td>\n",
       "      <td>1.057394e+09</td>\n",
       "      <td>ThreemaApp</td>\n",
       "      <td>0.0</td>\n",
       "      <td>NaN</td>\n",
       "      <td>...</td>\n",
       "      <td>NaN</td>\n",
       "      <td>NaN</td>\n",
       "      <td>0.0</td>\n",
       "      <td>0.0</td>\n",
       "      <td>1.0</td>\n",
       "      <td>Thu Mar 19 20:27:29 +0000 2015</td>\n",
       "      <td>2015-03-19 21:27:29</td>\n",
       "      <td>2015-05-01 12:57:19</td>\n",
       "      <td>2015-05-01 12:57:19</td>\n",
       "      <td>human</td>\n",
       "    </tr>\n",
       "    <tr>\n",
       "      <th>3</th>\n",
       "      <td>578653741022326784</td>\n",
       "      <td>@debs @kevinmarks @TummelVision \"itâs hard t...</td>\n",
       "      <td>&lt;a href=\"http://twitter.com\" rel=\"nofollow\"&gt;Tw...</td>\n",
       "      <td>678033</td>\n",
       "      <td>NaN</td>\n",
       "      <td>5.786348e+17</td>\n",
       "      <td>1.184800e+04</td>\n",
       "      <td>debs</td>\n",
       "      <td>0.0</td>\n",
       "      <td>NaN</td>\n",
       "      <td>...</td>\n",
       "      <td>NaN</td>\n",
       "      <td>NaN</td>\n",
       "      <td>0.0</td>\n",
       "      <td>0.0</td>\n",
       "      <td>3.0</td>\n",
       "      <td>Thu Mar 19 20:26:17 +0000 2015</td>\n",
       "      <td>2015-03-19 21:26:17</td>\n",
       "      <td>2015-05-01 12:57:19</td>\n",
       "      <td>2015-05-01 12:57:19</td>\n",
       "      <td>human</td>\n",
       "    </tr>\n",
       "    <tr>\n",
       "      <th>4</th>\n",
       "      <td>578652979353485312</td>\n",
       "      <td>MT @MelissaFPayne   Breaking: The body of an A...</td>\n",
       "      <td>&lt;a href=\"http://twitter.com\" rel=\"nofollow\"&gt;Tw...</td>\n",
       "      <td>678033</td>\n",
       "      <td>NaN</td>\n",
       "      <td>0.000000e+00</td>\n",
       "      <td>0.000000e+00</td>\n",
       "      <td>NaN</td>\n",
       "      <td>0.0</td>\n",
       "      <td>NaN</td>\n",
       "      <td>...</td>\n",
       "      <td>NaN</td>\n",
       "      <td>NaN</td>\n",
       "      <td>0.0</td>\n",
       "      <td>0.0</td>\n",
       "      <td>1.0</td>\n",
       "      <td>Thu Mar 19 20:23:15 +0000 2015</td>\n",
       "      <td>2015-03-19 21:23:15</td>\n",
       "      <td>2015-05-01 12:57:19</td>\n",
       "      <td>2015-05-01 12:57:19</td>\n",
       "      <td>human</td>\n",
       "    </tr>\n",
       "  </tbody>\n",
       "</table>\n",
       "<p>5 rows × 26 columns</p>\n",
       "</div>"
      ],
      "text/plain": [
       "                             id  \\\n",
       "0   Mar 19 20:59:26 +0000 2015\"   \n",
       "1            578656013127163905   \n",
       "2            578654044840919040   \n",
       "3            578653741022326784   \n",
       "4            578652979353485312   \n",
       "\n",
       "                                                text  \\\n",
       "0                                2015-03-19 21:59:26   \n",
       "1  @debs @kevinmarks @TummelVision this is report...   \n",
       "2  @ThreemaApp Apple App store not downloading Th...   \n",
       "3  @debs @kevinmarks @TummelVision \"itâs hard t...   \n",
       "4  MT @MelissaFPayne   Breaking: The body of an A...   \n",
       "\n",
       "                                              source              user_id  \\\n",
       "0                                2015-05-01 12:57:19  2015-05-01 12:57:19   \n",
       "1  <a href=\"http://twitter.com\" rel=\"nofollow\">Tw...               678033   \n",
       "2  <a href=\"http://twitter.com\" rel=\"nofollow\">Tw...               678033   \n",
       "3  <a href=\"http://twitter.com\" rel=\"nofollow\">Tw...               678033   \n",
       "4  <a href=\"http://twitter.com\" rel=\"nofollow\">Tw...               678033   \n",
       "\n",
       "   truncated  in_reply_to_status_id  in_reply_to_user_id  \\\n",
       "0        NaN                    NaN                  NaN   \n",
       "1        NaN           5.786542e+17         1.184800e+04   \n",
       "2        NaN           0.000000e+00         1.057394e+09   \n",
       "3        NaN           5.786348e+17         1.184800e+04   \n",
       "4        NaN           0.000000e+00         0.000000e+00   \n",
       "\n",
       "  in_reply_to_screen_name  retweeted_status_id  geo  ... retweeted  \\\n",
       "0                     NaN                  NaN  NaN  ...       NaN   \n",
       "1                    debs                  0.0  NaN  ...       NaN   \n",
       "2              ThreemaApp                  0.0  NaN  ...       NaN   \n",
       "3                    debs                  0.0  NaN  ...       NaN   \n",
       "4                     NaN                  0.0  NaN  ...       NaN   \n",
       "\n",
       "   possibly_sensitive  num_hashtags  num_urls  num_mentions  \\\n",
       "0                 NaN           NaN       NaN           NaN   \n",
       "1                 NaN           0.0       0.0           3.0   \n",
       "2                 NaN           0.0       0.0           1.0   \n",
       "3                 NaN           0.0       0.0           3.0   \n",
       "4                 NaN           0.0       0.0           1.0   \n",
       "\n",
       "                       created_at            timestamp           crawled_at  \\\n",
       "0                             NaN                  NaN                  NaN   \n",
       "1  Thu Mar 19 20:35:19 +0000 2015  2015-03-19 21:35:19  2015-05-01 12:57:19   \n",
       "2  Thu Mar 19 20:27:29 +0000 2015  2015-03-19 21:27:29  2015-05-01 12:57:19   \n",
       "3  Thu Mar 19 20:26:17 +0000 2015  2015-03-19 21:26:17  2015-05-01 12:57:19   \n",
       "4  Thu Mar 19 20:23:15 +0000 2015  2015-03-19 21:23:15  2015-05-01 12:57:19   \n",
       "\n",
       "               updated  bot_or_not  \n",
       "0                  NaN       human  \n",
       "1  2015-05-01 12:57:19       human  \n",
       "2  2015-05-01 12:57:19       human  \n",
       "3  2015-05-01 12:57:19       human  \n",
       "4  2015-05-01 12:57:19       human  \n",
       "\n",
       "[5 rows x 26 columns]"
      ]
     },
     "execution_count": 4,
     "metadata": {},
     "output_type": "execute_result"
    }
   ],
   "source": [
    "human_df.head(5)"
   ]
  },
  {
   "cell_type": "code",
   "execution_count": 5,
   "id": "0ffde8d1-08de-4dfc-8948-2e1260668ba1",
   "metadata": {},
   "outputs": [
    {
     "name": "stderr",
     "output_type": "stream",
     "text": [
      "/Users/alancooper/opt/anaconda3/lib/python3.7/site-packages/IPython/core/interactiveshell.py:3444: DtypeWarning: Columns (0) have mixed types.Specify dtype option on import or set low_memory=False.\n",
      "  exec(code_obj, self.user_global_ns, self.user_ns)\n"
     ]
    }
   ],
   "source": [
    "# Bots\n",
    "df_open = io.open(\"cresci-2017.csv/datasets_full.csv/traditional_spambots_1.csv/tweets.csv\", encoding='latin-1')\n",
    "columns = pd.read_csv(df_open, nrows=0).columns\n",
    "spambots_df = pd.read_csv(df_open, header = None, names = columns)\n",
    "\n",
    "spambots_df[\"bot_or_not\"] = \"bot\""
   ]
  },
  {
   "cell_type": "code",
   "execution_count": 6,
   "id": "b360c1f8-09e7-4d90-99fe-8004967d08a9",
   "metadata": {},
   "outputs": [
    {
     "data": {
      "text/plain": [
       "(144198, 26)"
      ]
     },
     "execution_count": 6,
     "metadata": {},
     "output_type": "execute_result"
    }
   ],
   "source": [
    "spambots_df.shape"
   ]
  },
  {
   "cell_type": "code",
   "execution_count": 7,
   "id": "fad39080-a9cf-4883-9e4e-a0a0afa2d643",
   "metadata": {},
   "outputs": [
    {
     "data": {
      "text/html": [
       "<div>\n",
       "<style scoped>\n",
       "    .dataframe tbody tr th:only-of-type {\n",
       "        vertical-align: middle;\n",
       "    }\n",
       "\n",
       "    .dataframe tbody tr th {\n",
       "        vertical-align: top;\n",
       "    }\n",
       "\n",
       "    .dataframe thead th {\n",
       "        text-align: right;\n",
       "    }\n",
       "</style>\n",
       "<table border=\"1\" class=\"dataframe\">\n",
       "  <thead>\n",
       "    <tr style=\"text-align: right;\">\n",
       "      <th></th>\n",
       "      <th>id</th>\n",
       "      <th>text</th>\n",
       "      <th>source</th>\n",
       "      <th>user_id</th>\n",
       "      <th>truncated</th>\n",
       "      <th>in_reply_to_status_id</th>\n",
       "      <th>in_reply_to_user_id</th>\n",
       "      <th>in_reply_to_screen_name</th>\n",
       "      <th>retweeted_status_id</th>\n",
       "      <th>geo</th>\n",
       "      <th>...</th>\n",
       "      <th>retweeted</th>\n",
       "      <th>possibly_sensitive</th>\n",
       "      <th>num_hashtags</th>\n",
       "      <th>num_urls</th>\n",
       "      <th>num_mentions</th>\n",
       "      <th>created_at</th>\n",
       "      <th>timestamp</th>\n",
       "      <th>crawled_at</th>\n",
       "      <th>updated</th>\n",
       "      <th>bot_or_not</th>\n",
       "    </tr>\n",
       "  </thead>\n",
       "  <tbody>\n",
       "    <tr>\n",
       "      <th>0</th>\n",
       "      <td>2014-04-16 23:57:18\"</td>\n",
       "      <td>NaN</td>\n",
       "      <td>NaN</td>\n",
       "      <td>NaN</td>\n",
       "      <td>NaN</td>\n",
       "      <td>NaN</td>\n",
       "      <td>NaN</td>\n",
       "      <td>NaN</td>\n",
       "      <td>NaN</td>\n",
       "      <td>NaN</td>\n",
       "      <td>...</td>\n",
       "      <td>NaN</td>\n",
       "      <td>NaN</td>\n",
       "      <td>NaN</td>\n",
       "      <td>NaN</td>\n",
       "      <td>NaN</td>\n",
       "      <td>NaN</td>\n",
       "      <td>NaN</td>\n",
       "      <td>NaN</td>\n",
       "      <td>NaN</td>\n",
       "      <td>bot</td>\n",
       "    </tr>\n",
       "    <tr>\n",
       "      <th>1</th>\n",
       "      <td>2467956552</td>\n",
       "      <td>Find Highlights of Indian Union Budget 2003-04...</td>\n",
       "      <td>web</td>\n",
       "      <td>7248952.0</td>\n",
       "      <td>NaN</td>\n",
       "      <td>0.0</td>\n",
       "      <td>0.0</td>\n",
       "      <td>NaN</td>\n",
       "      <td>0.0</td>\n",
       "      <td>NaN</td>\n",
       "      <td>...</td>\n",
       "      <td>NaN</td>\n",
       "      <td>NaN</td>\n",
       "      <td>0.0</td>\n",
       "      <td>1.0</td>\n",
       "      <td>0.0</td>\n",
       "      <td>1246704477000L</td>\n",
       "      <td>2009-07-04 12:47:57</td>\n",
       "      <td>0000-00-00 00:00:00</td>\n",
       "      <td>2014-04-16 23:57:18</td>\n",
       "      <td>bot</td>\n",
       "    </tr>\n",
       "    <tr>\n",
       "      <th>2</th>\n",
       "      <td>2467839228</td>\n",
       "      <td>Find Highlights of Indian Union Budget 2003-04...</td>\n",
       "      <td>&lt;a href=\"http://www.ping.fm/\" rel=\"nofollow\"&gt;P...</td>\n",
       "      <td>7248952.0</td>\n",
       "      <td>NaN</td>\n",
       "      <td>0.0</td>\n",
       "      <td>0.0</td>\n",
       "      <td>NaN</td>\n",
       "      <td>0.0</td>\n",
       "      <td>NaN</td>\n",
       "      <td>...</td>\n",
       "      <td>NaN</td>\n",
       "      <td>NaN</td>\n",
       "      <td>0.0</td>\n",
       "      <td>1.0</td>\n",
       "      <td>0.0</td>\n",
       "      <td>1246703253000L</td>\n",
       "      <td>2009-07-04 12:27:33</td>\n",
       "      <td>0000-00-00 00:00:00</td>\n",
       "      <td>2014-04-16 23:57:18</td>\n",
       "      <td>bot</td>\n",
       "    </tr>\n",
       "    <tr>\n",
       "      <th>3</th>\n",
       "      <td>2467838129</td>\n",
       "      <td>The Climate Change Truth http://ping.fm/LM2NC</td>\n",
       "      <td>&lt;a href=\"http://www.ping.fm/\" rel=\"nofollow\"&gt;P...</td>\n",
       "      <td>7248952.0</td>\n",
       "      <td>NaN</td>\n",
       "      <td>0.0</td>\n",
       "      <td>0.0</td>\n",
       "      <td>NaN</td>\n",
       "      <td>0.0</td>\n",
       "      <td>NaN</td>\n",
       "      <td>...</td>\n",
       "      <td>NaN</td>\n",
       "      <td>NaN</td>\n",
       "      <td>0.0</td>\n",
       "      <td>1.0</td>\n",
       "      <td>0.0</td>\n",
       "      <td>1246703241000L</td>\n",
       "      <td>2009-07-04 12:27:21</td>\n",
       "      <td>0000-00-00 00:00:00</td>\n",
       "      <td>2014-04-16 23:57:18</td>\n",
       "      <td>bot</td>\n",
       "    </tr>\n",
       "    <tr>\n",
       "      <th>4</th>\n",
       "      <td>2467831867</td>\n",
       "      <td>Find Highlights of Indian Union Budget 2002-03...</td>\n",
       "      <td>&lt;a href=\"http://www.ping.fm/\" rel=\"nofollow\"&gt;P...</td>\n",
       "      <td>7248952.0</td>\n",
       "      <td>NaN</td>\n",
       "      <td>0.0</td>\n",
       "      <td>0.0</td>\n",
       "      <td>NaN</td>\n",
       "      <td>0.0</td>\n",
       "      <td>NaN</td>\n",
       "      <td>...</td>\n",
       "      <td>NaN</td>\n",
       "      <td>NaN</td>\n",
       "      <td>0.0</td>\n",
       "      <td>1.0</td>\n",
       "      <td>0.0</td>\n",
       "      <td>1246703174000L</td>\n",
       "      <td>2009-07-04 12:26:14</td>\n",
       "      <td>0000-00-00 00:00:00</td>\n",
       "      <td>2014-04-16 23:57:18</td>\n",
       "      <td>bot</td>\n",
       "    </tr>\n",
       "  </tbody>\n",
       "</table>\n",
       "<p>5 rows × 26 columns</p>\n",
       "</div>"
      ],
      "text/plain": [
       "                     id                                               text  \\\n",
       "0  2014-04-16 23:57:18\"                                                NaN   \n",
       "1            2467956552  Find Highlights of Indian Union Budget 2003-04...   \n",
       "2            2467839228  Find Highlights of Indian Union Budget 2003-04...   \n",
       "3            2467838129      The Climate Change Truth http://ping.fm/LM2NC   \n",
       "4            2467831867  Find Highlights of Indian Union Budget 2002-03...   \n",
       "\n",
       "                                              source    user_id  truncated  \\\n",
       "0                                                NaN        NaN        NaN   \n",
       "1                                                web  7248952.0        NaN   \n",
       "2  <a href=\"http://www.ping.fm/\" rel=\"nofollow\">P...  7248952.0        NaN   \n",
       "3  <a href=\"http://www.ping.fm/\" rel=\"nofollow\">P...  7248952.0        NaN   \n",
       "4  <a href=\"http://www.ping.fm/\" rel=\"nofollow\">P...  7248952.0        NaN   \n",
       "\n",
       "   in_reply_to_status_id  in_reply_to_user_id in_reply_to_screen_name  \\\n",
       "0                    NaN                  NaN                     NaN   \n",
       "1                    0.0                  0.0                     NaN   \n",
       "2                    0.0                  0.0                     NaN   \n",
       "3                    0.0                  0.0                     NaN   \n",
       "4                    0.0                  0.0                     NaN   \n",
       "\n",
       "   retweeted_status_id  geo  ...  retweeted  possibly_sensitive  num_hashtags  \\\n",
       "0                  NaN  NaN  ...        NaN                 NaN           NaN   \n",
       "1                  0.0  NaN  ...        NaN                 NaN           0.0   \n",
       "2                  0.0  NaN  ...        NaN                 NaN           0.0   \n",
       "3                  0.0  NaN  ...        NaN                 NaN           0.0   \n",
       "4                  0.0  NaN  ...        NaN                 NaN           0.0   \n",
       "\n",
       "   num_urls  num_mentions      created_at            timestamp  \\\n",
       "0       NaN           NaN             NaN                  NaN   \n",
       "1       1.0           0.0  1246704477000L  2009-07-04 12:47:57   \n",
       "2       1.0           0.0  1246703253000L  2009-07-04 12:27:33   \n",
       "3       1.0           0.0  1246703241000L  2009-07-04 12:27:21   \n",
       "4       1.0           0.0  1246703174000L  2009-07-04 12:26:14   \n",
       "\n",
       "            crawled_at              updated  bot_or_not  \n",
       "0                  NaN                  NaN         bot  \n",
       "1  0000-00-00 00:00:00  2014-04-16 23:57:18         bot  \n",
       "2  0000-00-00 00:00:00  2014-04-16 23:57:18         bot  \n",
       "3  0000-00-00 00:00:00  2014-04-16 23:57:18         bot  \n",
       "4  0000-00-00 00:00:00  2014-04-16 23:57:18         bot  \n",
       "\n",
       "[5 rows x 26 columns]"
      ]
     },
     "execution_count": 7,
     "metadata": {},
     "output_type": "execute_result"
    }
   ],
   "source": [
    "spambots_df.head()"
   ]
  },
  {
   "cell_type": "code",
   "execution_count": 8,
   "id": "db160766-b02d-4fc5-97de-da6499f9c2d0",
   "metadata": {},
   "outputs": [],
   "source": [
    "# Combine\n",
    "cols_of_interest = [\"id\", \"user_id\", \"text\", \"bot_or_not\"]\n",
    "bots_df = pd.concat([spambots_df[cols_of_interest], human_df[cols_of_interest]])"
   ]
  },
  {
   "cell_type": "code",
   "execution_count": 9,
   "id": "fc158810-ef82-4ecc-bbfd-84bd7a5f1d27",
   "metadata": {},
   "outputs": [],
   "source": [
    "del human_df\n",
    "del spambots_df"
   ]
  },
  {
   "cell_type": "code",
   "execution_count": 10,
   "id": "b702ace9-1f43-448f-83af-01f28d910e8a",
   "metadata": {},
   "outputs": [],
   "source": [
    "# Remove entries with NULL text and user_id\n",
    "bots_df = bots_df.loc[bots_df[\"text\"].notnull() & bots_df[\"user_id\"].notnull()]"
   ]
  },
  {
   "cell_type": "code",
   "execution_count": 11,
   "id": "a9798b37-f768-4466-91a9-49d104f9f1da",
   "metadata": {},
   "outputs": [
    {
     "data": {
      "text/plain": [
       "bot_or_not\n",
       "bot      1000\n",
       "human    1085\n",
       "Name: user_id, dtype: int64"
      ]
     },
     "execution_count": 11,
     "metadata": {},
     "output_type": "execute_result"
    }
   ],
   "source": [
    "bots_df.groupby(\"bot_or_not\")[\"user_id\"].nunique()"
   ]
  },
  {
   "cell_type": "code",
   "execution_count": 12,
   "id": "c8c42a50-b06c-4f9b-85a4-d3fb117e698c",
   "metadata": {},
   "outputs": [],
   "source": [
    "# Write out\n",
    "bots_df.to_csv(\"bots_by_tweet_df.csv\", index = False)"
   ]
  },
  {
   "cell_type": "code",
   "execution_count": 13,
   "id": "98276d97-3757-454c-b6f9-e746edd6a6dc",
   "metadata": {},
   "outputs": [
    {
     "name": "stderr",
     "output_type": "stream",
     "text": [
      "/Users/alancooper/opt/anaconda3/lib/python3.7/site-packages/IPython/core/interactiveshell.py:3444: DtypeWarning: Columns (0,1) have mixed types.Specify dtype option on import or set low_memory=False.\n",
      "  exec(code_obj, self.user_global_ns, self.user_ns)\n"
     ]
    }
   ],
   "source": [
    "bots_df = pd.read_csv(\"bots_by_tweet_df.csv\")"
   ]
  },
  {
   "cell_type": "code",
   "execution_count": 14,
   "id": "cd94d7c7-6b86-45f4-8924-c3dde71526d4",
   "metadata": {},
   "outputs": [],
   "source": [
    "# Condense by user\n",
    "bots_df = bots_df.groupby(by = \"user_id\").agg(lambda x: x.unique()).reset_index()\n",
    "# bots_df[\"user_id\"] = bots_df.index()\n",
    "\n",
    "# Convert tweet column from list to text\n",
    "bots_df[\"text\"] = bots_df[\"text\"].apply(lambda x: ''.join(x))"
   ]
  },
  {
   "cell_type": "code",
   "execution_count": 15,
   "id": "33f3c852-1fdd-43ff-8fe5-8e38ac3f11ff",
   "metadata": {},
   "outputs": [
    {
     "data": {
      "text/html": [
       "<div>\n",
       "<style scoped>\n",
       "    .dataframe tbody tr th:only-of-type {\n",
       "        vertical-align: middle;\n",
       "    }\n",
       "\n",
       "    .dataframe tbody tr th {\n",
       "        vertical-align: top;\n",
       "    }\n",
       "\n",
       "    .dataframe thead th {\n",
       "        text-align: right;\n",
       "    }\n",
       "</style>\n",
       "<table border=\"1\" class=\"dataframe\">\n",
       "  <thead>\n",
       "    <tr style=\"text-align: right;\">\n",
       "      <th></th>\n",
       "      <th>user_id</th>\n",
       "      <th>id</th>\n",
       "      <th>text</th>\n",
       "      <th>bot_or_not</th>\n",
       "    </tr>\n",
       "  </thead>\n",
       "  <tbody>\n",
       "    <tr>\n",
       "      <th>0</th>\n",
       "      <td>6775342</td>\n",
       "      <td>[592875544783499265, 591661546419302402, 58965...</td>\n",
       "      <td>I don't need an Emmy to tell me @TheTalk_CBS i...</td>\n",
       "      <td>human</td>\n",
       "    </tr>\n",
       "    <tr>\n",
       "      <th>1</th>\n",
       "      <td>6834152</td>\n",
       "      <td>[593996183095218178, 593995834443763712, 59399...</td>\n",
       "      <td>I hate how California Alternative energy prett...</td>\n",
       "      <td>human</td>\n",
       "    </tr>\n",
       "    <tr>\n",
       "      <th>2</th>\n",
       "      <td>7004532</td>\n",
       "      <td>[594049007309066240, 594046498741964800, 59404...</td>\n",
       "      <td>@TrevorBoris looking like an orchestra conduct...</td>\n",
       "      <td>human</td>\n",
       "    </tr>\n",
       "    <tr>\n",
       "      <th>3</th>\n",
       "      <td>7248952.0</td>\n",
       "      <td>[2467956552, 2467839228, 2467838129, 246783186...</td>\n",
       "      <td>Find Highlights of Indian Union Budget 2003-04...</td>\n",
       "      <td>bot</td>\n",
       "    </tr>\n",
       "    <tr>\n",
       "      <th>4</th>\n",
       "      <td>7732472.0</td>\n",
       "      <td>[29608140071, 29556617005, 29507452649, 294080...</td>\n",
       "      <td>Offline Marketing Report \\u2013 How To Get Ins...</td>\n",
       "      <td>bot</td>\n",
       "    </tr>\n",
       "  </tbody>\n",
       "</table>\n",
       "</div>"
      ],
      "text/plain": [
       "     user_id                                                 id  \\\n",
       "0    6775342  [592875544783499265, 591661546419302402, 58965...   \n",
       "1    6834152  [593996183095218178, 593995834443763712, 59399...   \n",
       "2    7004532  [594049007309066240, 594046498741964800, 59404...   \n",
       "3  7248952.0  [2467956552, 2467839228, 2467838129, 246783186...   \n",
       "4  7732472.0  [29608140071, 29556617005, 29507452649, 294080...   \n",
       "\n",
       "                                                text bot_or_not  \n",
       "0  I don't need an Emmy to tell me @TheTalk_CBS i...      human  \n",
       "1  I hate how California Alternative energy prett...      human  \n",
       "2  @TrevorBoris looking like an orchestra conduct...      human  \n",
       "3  Find Highlights of Indian Union Budget 2003-04...        bot  \n",
       "4  Offline Marketing Report \\u2013 How To Get Ins...        bot  "
      ]
     },
     "execution_count": 15,
     "metadata": {},
     "output_type": "execute_result"
    }
   ],
   "source": [
    "bots_df.head()"
   ]
  },
  {
   "cell_type": "code",
   "execution_count": 16,
   "id": "7612ced5-db68-41f3-92aa-9b7529a126fd",
   "metadata": {},
   "outputs": [],
   "source": [
    "bots_df.to_csv(\"bots_by_user_df_raw.csv\", index = False)"
   ]
  },
  {
   "cell_type": "code",
   "execution_count": 17,
   "id": "195b754a-51e1-4557-97ab-26cfb729a126",
   "metadata": {},
   "outputs": [],
   "source": [
    "bots_df = pd.read_csv(\"bots_by_user_df_raw.csv\")"
   ]
  },
  {
   "cell_type": "markdown",
   "id": "6b52ad12-f749-4e09-a932-942427f6e15a",
   "metadata": {},
   "source": [
    "## Pre-processing"
   ]
  },
  {
   "cell_type": "markdown",
   "id": "4673d613-450c-4c6a-9f31-9f0c0d8fd2aa",
   "metadata": {},
   "source": [
    "### Remove select characters"
   ]
  },
  {
   "cell_type": "code",
   "execution_count": 18,
   "id": "401b96c8-9bbf-4a35-9aa9-ced5b5d65c53",
   "metadata": {},
   "outputs": [],
   "source": [
    "entity_prefixes = ['@','#']\n",
    "def preprocess_text(text):\n",
    "    '''Remove links and select special characters.\n",
    "    Fixes encoding to be ASCII'''\n",
    "    \n",
    "    # https://stackoverflow.com/questions/8376691/how-to-remove-hashtag-user-link-of-a-tweet-using-regular-expression \n",
    "    def strip_links(text):\n",
    "        link_regex = re.compile('((https?):((//)|(\\\\\\\\))+([\\w\\d:#@%/;$()~_?\\+-=\\\\\\.&](#!)?)*)', re.DOTALL)\n",
    "        links = re.findall(link_regex, text)\n",
    "        \n",
    "        for link in links:\n",
    "            text = text.replace(link[0], ', ')   \n",
    "        return text\n",
    "    \n",
    "    \n",
    "    # From https://gist.github.com/tushortz/9fbde5d023c0a0204333267840b592f9\n",
    "    def fix_unicode(text):\n",
    "\n",
    "        text = (text.\n",
    "            replace('\\\\xe2\\\\x80\\\\x99', \"'\").\n",
    "            replace('\\\\xc3\\\\xa9', 'e').\n",
    "            replace('\\\\xe2\\\\x80\\\\x90', '-').\n",
    "            replace('\\\\xe2\\\\x80\\\\x91', '-').\n",
    "            replace('\\\\xe2\\\\x80\\\\x92', '-').\n",
    "            replace('\\\\xe2\\\\x80\\\\x93', '-').\n",
    "            replace('\\\\xe2\\\\x80\\\\x94', '-').\n",
    "            replace('\\\\xe2\\\\x80\\\\x94', '-').\n",
    "            replace('\\\\xe2\\\\x80\\\\x98', \"'\").\n",
    "            replace('\\\\xe2\\\\x80\\\\x9b', \"'\").\n",
    "            replace('\\\\xe2\\\\x80\\\\x9c', '\"').\n",
    "            replace('\\\\xe2\\\\x80\\\\x9c', '\"').\n",
    "            replace('\\\\xe2\\\\x80\\\\x9d', '\"').\n",
    "            replace('\\\\xe2\\\\x80\\\\x9e', '\"').\n",
    "            replace('\\\\xe2\\\\x80\\\\x9f', '\"').\n",
    "            replace('\\\\xe2\\\\x80\\\\xa6', '...').#\n",
    "            replace('\\\\xe2\\\\x80\\\\xb2', \"'\").\n",
    "            replace('\\\\xe2\\\\x80\\\\xb3', \"'\").\n",
    "            replace('\\\\xe2\\\\x80\\\\xb4', \"'\").\n",
    "            replace('\\\\xe2\\\\x80\\\\xb5', \"'\").\n",
    "            replace('\\\\xe2\\\\x80\\\\xb6', \"'\").\n",
    "            replace('\\\\xe2\\\\x80\\\\xb7', \"'\").\n",
    "            replace('\\\\xe2\\\\x81\\\\xba', \"+\").\n",
    "            replace('\\\\xe2\\\\x81\\\\xbb', \"-\").\n",
    "            replace('\\\\xe2\\\\x81\\\\xbc', \"=\").\n",
    "            replace('\\\\xe2\\\\x81\\\\xbd', \"(\").\n",
    "            replace('\\\\xe2\\\\x81\\\\xbe', \")\")\n",
    "\n",
    "                     )\n",
    "        return text\n",
    "    \n",
    "    def remove_other_unicode(text):\n",
    "        regex = re.compile(r'u0e[0-9]+|xe[0-9]+|xf[0-9]+|xa[0-9]+')\n",
    "        to_remove = re.findall(regex, text)\n",
    "        \n",
    "        for i in to_remove:\n",
    "            text = text.replace(i, ', ')   \n",
    "        return text\n",
    "\n",
    "     \n",
    "    def strip_all_entities(text):\n",
    "        for separator in string.punctuation:\n",
    "            if separator not in entity_prefixes:\n",
    "                text = text.replace(separator,' ')\n",
    "                words = []\n",
    "        for word in text.split():\n",
    "            word = word.strip()\n",
    "            if word:\n",
    "                if word[0] not in entity_prefixes:\n",
    "                    words.append(word)\n",
    "        return ' '.join(words)\n",
    "    \n",
    "    text = fix_unicode(text.encode(\"ascii\",\"ignore\").decode(\"ascii\"))\n",
    "    text = remove_other_unicode(text)\n",
    "    text = strip_links(text)\n",
    "    text = strip_all_entities(text)\n",
    "    \n",
    "    return(text)\n"
   ]
  },
  {
   "cell_type": "code",
   "execution_count": 19,
   "id": "3026ba7d-ea54-4220-9dbc-6a1c22897c20",
   "metadata": {
    "tags": []
   },
   "outputs": [],
   "source": [
    "filtered_text = bots_df.apply(lambda x: preprocess_text(x[\"text\"]), axis=1)"
   ]
  },
  {
   "cell_type": "code",
   "execution_count": 20,
   "id": "3d04dcba-a9c1-4a51-8b82-f5f04b866084",
   "metadata": {},
   "outputs": [],
   "source": [
    "bots_df[\"text\"] = filtered_text.values"
   ]
  },
  {
   "cell_type": "code",
   "execution_count": 21,
   "id": "fce040be-be97-4ef9-b006-35aedaa4ac8a",
   "metadata": {},
   "outputs": [],
   "source": [
    "bots_df.to_csv(\"bots_by_user_df.csv\", index = False)"
   ]
  },
  {
   "cell_type": "code",
   "execution_count": 22,
   "id": "92d6489b-2502-4472-b3c9-af51f4879d14",
   "metadata": {},
   "outputs": [],
   "source": [
    "bots_df = pd.read_csv(\"bots_by_user_df.csv\")"
   ]
  },
  {
   "cell_type": "markdown",
   "id": "716eb33a-cf71-4fda-b7fe-5928fae72b3f",
   "metadata": {},
   "source": [
    "### Tokenization"
   ]
  },
  {
   "cell_type": "code",
   "execution_count": 23,
   "id": "052b04a8-1a92-4044-b7ef-c5cd03ae5255",
   "metadata": {},
   "outputs": [
    {
     "name": "stdout",
     "output_type": "stream",
     "text": [
      "CPU times: user 1min 33s, sys: 1.97 s, total: 1min 35s\n",
      "Wall time: 1min 36s\n"
     ]
    }
   ],
   "source": [
    "%%time\n",
    "bots_text = bots_df.loc[bots_df[\"bot_or_not\"]==\"bot\"][\"text\"].str.cat()\n",
    "humans_text = bots_df.loc[bots_df[\"bot_or_not\"]==\"human\"][\"text\"].str.cat()\n",
    "\n",
    "\n",
    "bots_freq = nltk.FreqDist(nltk.word_tokenize(bots_text))\n",
    "humans_freq = nltk.FreqDist(nltk.word_tokenize(humans_text))"
   ]
  },
  {
   "cell_type": "code",
   "execution_count": 24,
   "id": "64194d37-adcc-4adf-a329-fa58f1ee49d6",
   "metadata": {},
   "outputs": [
    {
     "data": {
      "text/plain": [
       "FreqDist({'a': 22234, 'o': 17595, 'to': 15740, 'de': 13014, 'the': 12101, 'e': 9480, 'of': 8771, 'followers': 8598, '@': 8596, 'and': 7503, ...})"
      ]
     },
     "execution_count": 24,
     "metadata": {},
     "output_type": "execute_result"
    }
   ],
   "source": [
    "bots_freq"
   ]
  },
  {
   "cell_type": "code",
   "execution_count": null,
   "id": "e092b0ef-3d4e-4256-a1cf-bca8b5d42f5e",
   "metadata": {},
   "outputs": [],
   "source": []
  },
  {
   "cell_type": "code",
   "execution_count": 25,
   "id": "889e0f84-dfa5-444e-8264-4b29d826717a",
   "metadata": {},
   "outputs": [],
   "source": [
    "with open('bots_freq.pkl', 'wb') as f:\n",
    "    pickle.dump(bots_freq, f)\n",
    "    \n",
    "with open('humans_freq.pkl', 'wb') as f:\n",
    "    pickle.dump(humans_freq, f)"
   ]
  },
  {
   "cell_type": "code",
   "execution_count": 26,
   "id": "9f227e41-eb9a-4ae0-9831-317ebbdb1706",
   "metadata": {},
   "outputs": [],
   "source": [
    "with open('bots_freq.pkl', 'rb') as f:\n",
    "    bots_freq = pickle.load(f)\n",
    "\n",
    "with open('humans_freq.pkl', 'rb') as f:\n",
    "      humans_freq = pickle.load(f)"
   ]
  },
  {
   "cell_type": "code",
   "execution_count": 27,
   "id": "58f8d01d-870d-4f51-8644-cd4c084960dd",
   "metadata": {},
   "outputs": [
    {
     "data": {
      "text/plain": [
       "FreqDist({'the': 607616, 'I': 594501, 'to': 545430, 'a': 462872, 'you': 376249, 'and': 308033, 'RT': 304313, '@': 297241, 'in': 294595, 'is': 290999, ...})"
      ]
     },
     "execution_count": 27,
     "metadata": {},
     "output_type": "execute_result"
    }
   ],
   "source": [
    "humans_freq"
   ]
  },
  {
   "cell_type": "code",
   "execution_count": 28,
   "id": "fdd5816a-2d9f-4c27-9197-ab050fb54d30",
   "metadata": {},
   "outputs": [
    {
     "data": {
      "text/plain": [
       "' don t need an Emmy to tell me CBS is the best daytime talk show hands down Love the ladies of The '"
      ]
     },
     "execution_count": 28,
     "metadata": {},
     "output_type": "execute_result"
    }
   ],
   "source": [
    "humans_text[1:100]"
   ]
  },
  {
   "cell_type": "code",
   "execution_count": 29,
   "id": "f2e85f72-87ac-4573-81c8-d30e862552c8",
   "metadata": {},
   "outputs": [],
   "source": [
    "words_to_remove = [\"@\", \"#\"]"
   ]
  },
  {
   "cell_type": "code",
   "execution_count": 30,
   "id": "683a1367-425e-4d1d-9d3a-54684987e7cc",
   "metadata": {},
   "outputs": [],
   "source": [
    "dict_filter = lambda word_dict: dict( (word, word_dict[word]) for word in word_dict if (word_dict[word] > 0.001*word_dict.N() and word not in words_to_remove))\n",
    "bots_filt = dict_filter(bots_freq)\n",
    "humans_filt = dict_filter(humans_freq)"
   ]
  },
  {
   "cell_type": "code",
   "execution_count": 31,
   "id": "e25b7c2d-4227-40ba-9ff0-611898fe1c9c",
   "metadata": {
    "tags": []
   },
   "outputs": [],
   "source": [
    "filt_tokens = list(humans_filt.keys())\n",
    "filt_tokens.extend(list(bots_filt.keys()))"
   ]
  },
  {
   "cell_type": "code",
   "execution_count": 32,
   "id": "2a33a056-352b-4943-926d-e6a4d764add5",
   "metadata": {},
   "outputs": [],
   "source": [
    "all_tokens = list(humans_freq.keys())\n",
    "all_tokens.extend(list(bots_freq.keys()))"
   ]
  },
  {
   "cell_type": "code",
   "execution_count": 33,
   "id": "7c81d1a3-d8a2-4e7f-9154-e8a4b7acca38",
   "metadata": {},
   "outputs": [],
   "source": [
    "filt_tokens = pd.Series(filt_tokens).unique()"
   ]
  },
  {
   "cell_type": "code",
   "execution_count": 34,
   "id": "b88c1aa5-c2cc-40d9-beeb-fc43df70a507",
   "metadata": {},
   "outputs": [
    {
     "data": {
      "text/plain": [
       "175"
      ]
     },
     "execution_count": 34,
     "metadata": {},
     "output_type": "execute_result"
    }
   ],
   "source": [
    "len(filt_tokens)"
   ]
  },
  {
   "cell_type": "code",
   "execution_count": 35,
   "id": "7c9828d5-c711-4e93-89f5-849bbfc563d7",
   "metadata": {},
   "outputs": [
    {
     "data": {
      "text/plain": [
       "array(['the', 'I', 'to', 'a', 'you', 'and', 'RT', 'in', 'is', 'of', 's',\n",
       "       'for', 'it', 't', 'my', 'on', 'that', 'me', 'this', 'be', 'with',\n",
       "       'at', 'm', 'so', 'have', 'are', 'like', 'your', 'just', 'not',\n",
       "       'was', 'can', 'but', 'i', 'all', 'up', 'out', 'amp', 'from', 'The',\n",
       "       'get', 'do', 'co', 'we', 'what', 'about', 'no', 'don', 'when',\n",
       "       'one', 'na', 'they', 'if', 'love', 'will', 'as', 're', 'know',\n",
       "       'by', 'he', 'now', 'people', 'de', 'time', 'an', 'or', 'good',\n",
       "       'day', 'go', 'who', 'how', 'has', 'want', 'It', 'got', 'You',\n",
       "       'more', 'A', 'too', 'today', '2', 'see', 'there', 'think', '3',\n",
       "       'u', 'need', 'new', 'really', 'some', 'll', 'his', 'back', 'much',\n",
       "       'would', 'going', 've', 'make', 'been', 'them', 'right', 'que',\n",
       "       'her', 'still', 'via', 'here', '1', 'o', 'e', 'followers', 'com',\n",
       "       'n', 'd', 'post', '5', 'site', '100', '7', 'em', 'using', 'u2014',\n",
       "       'eu', 'mais', 'b', 'pra', 'blog', 'um', 'para', 'da', 'D',\n",
       "       'seguidores', 'www', '9', '8', 'O', 'uma', 'New', 'xea', 'q', '0',\n",
       "       'c', 'se', 'vc', 'u2013', 'meu', 'te', 'This', 'check', 'To',\n",
       "       'tem', '2010', 'voc', 'TWITTER', 'por', 'Reuters', 'Forex', '4',\n",
       "       'S', 'ter', 'Plz', 'If', '10', 'way', 'dia', 'Get', 'twitter',\n",
       "       'ou', 'super', 'free', 'ta', 'fast', 'use', 'follow', 'vai',\n",
       "       'gente'], dtype=object)"
      ]
     },
     "execution_count": 35,
     "metadata": {},
     "output_type": "execute_result"
    }
   ],
   "source": [
    "filt_tokens"
   ]
  },
  {
   "cell_type": "code",
   "execution_count": 36,
   "id": "295fc810-7ad4-4ed9-b5f8-8b9286290ee0",
   "metadata": {},
   "outputs": [],
   "source": [
    "with open('filt_tokens.pkl', 'wb') as f:\n",
    "    pickle.dump(filt_tokens, f)"
   ]
  },
  {
   "cell_type": "code",
   "execution_count": 37,
   "id": "fab0471b-584e-443e-af42-80e0bb929a11",
   "metadata": {},
   "outputs": [],
   "source": [
    "# Credit to https://stackoverflow.com/questions/15658187/replace-all-words-from-word-list-with-another-string-in-python\n",
    "\n",
    "def filter_to_tokens(text):\n",
    "    '''Filter input text to rough matches of desired tokens so don't have to work with the whole thing '''\n",
    "    \n",
    "    text_tokenized = nltk.word_tokenize(text)\n",
    "    token_series =  pd.Series(text_tokenized)\n",
    "\n",
    "    \n",
    "    regex_tokens = re.compile('|'.join(map(re.escape, filt_tokens)))\n",
    "    \n",
    "    filtered_text = token_series[token_series.str.contains(regex_tokens, regex = True)].values\n",
    "    \n",
    "    filtered_text = \" \".join(filtered_text)\n",
    "    \n",
    "    return(filtered_text)"
   ]
  },
  {
   "cell_type": "code",
   "execution_count": 38,
   "id": "3276f964-0fc0-417c-a5b0-118927a5edc3",
   "metadata": {
    "tags": []
   },
   "outputs": [],
   "source": [
    "def fun_tokenize(text):\n",
    "    '''Convert tweet column into tokens'''\n",
    "    try:\n",
    "        text = filter_to_tokens(text)\n",
    "        word_dict = nltk.word_tokenize(text)\n",
    "        tokens = nltk.FreqDist(word_dict)\n",
    "\n",
    "        df = pd.DataFrame.from_dict(tokens, orient = \"index\").T\n",
    "\n",
    "        cols_to_keep = [x for x in df.columns if x in filt_tokens]\n",
    "        row =  df[cols_to_keep].iloc[0]\n",
    "    except:\n",
    "        row = None\n",
    "    return(row)"
   ]
  },
  {
   "cell_type": "code",
   "execution_count": 39,
   "id": "68f05360-d4ae-41d9-ada3-729aae0b4ea5",
   "metadata": {
    "tags": []
   },
   "outputs": [
    {
     "name": "stdout",
     "output_type": "stream",
     "text": [
      "CPU times: user 3min 58s, sys: 1.57 s, total: 4min\n",
      "Wall time: 4min 1s\n"
     ]
    }
   ],
   "source": [
    "%%time\n",
    "token_df = bots_df.apply(lambda x: fun_tokenize(x[\"text\"]), axis=1)"
   ]
  },
  {
   "cell_type": "code",
   "execution_count": 40,
   "id": "5e440dd1-284f-4b14-b2b7-1ce7a5acc166",
   "metadata": {},
   "outputs": [
    {
     "data": {
      "text/html": [
       "<div>\n",
       "<style scoped>\n",
       "    .dataframe tbody tr th:only-of-type {\n",
       "        vertical-align: middle;\n",
       "    }\n",
       "\n",
       "    .dataframe tbody tr th {\n",
       "        vertical-align: top;\n",
       "    }\n",
       "\n",
       "    .dataframe thead th {\n",
       "        text-align: right;\n",
       "    }\n",
       "</style>\n",
       "<table border=\"1\" class=\"dataframe\">\n",
       "  <thead>\n",
       "    <tr style=\"text-align: right;\">\n",
       "      <th></th>\n",
       "      <th>0</th>\n",
       "      <th>1</th>\n",
       "      <th>10</th>\n",
       "      <th>100</th>\n",
       "      <th>2</th>\n",
       "      <th>2010</th>\n",
       "      <th>3</th>\n",
       "      <th>4</th>\n",
       "      <th>5</th>\n",
       "      <th>7</th>\n",
       "      <th>...</th>\n",
       "      <th>what</th>\n",
       "      <th>when</th>\n",
       "      <th>who</th>\n",
       "      <th>will</th>\n",
       "      <th>with</th>\n",
       "      <th>would</th>\n",
       "      <th>www</th>\n",
       "      <th>xea</th>\n",
       "      <th>you</th>\n",
       "      <th>your</th>\n",
       "    </tr>\n",
       "  </thead>\n",
       "  <tbody>\n",
       "    <tr>\n",
       "      <th>0</th>\n",
       "      <td>2.0</td>\n",
       "      <td>19.0</td>\n",
       "      <td>3.0</td>\n",
       "      <td>1.0</td>\n",
       "      <td>28.0</td>\n",
       "      <td>1.0</td>\n",
       "      <td>26.0</td>\n",
       "      <td>14.0</td>\n",
       "      <td>9.0</td>\n",
       "      <td>1.0</td>\n",
       "      <td>...</td>\n",
       "      <td>60.0</td>\n",
       "      <td>28.0</td>\n",
       "      <td>54.0</td>\n",
       "      <td>34.0</td>\n",
       "      <td>95.0</td>\n",
       "      <td>23.0</td>\n",
       "      <td>NaN</td>\n",
       "      <td>NaN</td>\n",
       "      <td>445.0</td>\n",
       "      <td>146.0</td>\n",
       "    </tr>\n",
       "    <tr>\n",
       "      <th>1</th>\n",
       "      <td>6.0</td>\n",
       "      <td>69.0</td>\n",
       "      <td>54.0</td>\n",
       "      <td>21.0</td>\n",
       "      <td>62.0</td>\n",
       "      <td>9.0</td>\n",
       "      <td>65.0</td>\n",
       "      <td>37.0</td>\n",
       "      <td>56.0</td>\n",
       "      <td>35.0</td>\n",
       "      <td>...</td>\n",
       "      <td>65.0</td>\n",
       "      <td>31.0</td>\n",
       "      <td>53.0</td>\n",
       "      <td>87.0</td>\n",
       "      <td>194.0</td>\n",
       "      <td>23.0</td>\n",
       "      <td>NaN</td>\n",
       "      <td>NaN</td>\n",
       "      <td>231.0</td>\n",
       "      <td>124.0</td>\n",
       "    </tr>\n",
       "    <tr>\n",
       "      <th>2</th>\n",
       "      <td>2.0</td>\n",
       "      <td>27.0</td>\n",
       "      <td>7.0</td>\n",
       "      <td>9.0</td>\n",
       "      <td>64.0</td>\n",
       "      <td>4.0</td>\n",
       "      <td>76.0</td>\n",
       "      <td>28.0</td>\n",
       "      <td>26.0</td>\n",
       "      <td>6.0</td>\n",
       "      <td>...</td>\n",
       "      <td>140.0</td>\n",
       "      <td>115.0</td>\n",
       "      <td>105.0</td>\n",
       "      <td>65.0</td>\n",
       "      <td>175.0</td>\n",
       "      <td>54.0</td>\n",
       "      <td>NaN</td>\n",
       "      <td>NaN</td>\n",
       "      <td>345.0</td>\n",
       "      <td>56.0</td>\n",
       "    </tr>\n",
       "    <tr>\n",
       "      <th>3</th>\n",
       "      <td>NaN</td>\n",
       "      <td>1.0</td>\n",
       "      <td>19.0</td>\n",
       "      <td>1.0</td>\n",
       "      <td>1.0</td>\n",
       "      <td>1.0</td>\n",
       "      <td>1.0</td>\n",
       "      <td>1.0</td>\n",
       "      <td>6.0</td>\n",
       "      <td>NaN</td>\n",
       "      <td>...</td>\n",
       "      <td>3.0</td>\n",
       "      <td>NaN</td>\n",
       "      <td>2.0</td>\n",
       "      <td>9.0</td>\n",
       "      <td>12.0</td>\n",
       "      <td>NaN</td>\n",
       "      <td>1.0</td>\n",
       "      <td>NaN</td>\n",
       "      <td>12.0</td>\n",
       "      <td>8.0</td>\n",
       "    </tr>\n",
       "    <tr>\n",
       "      <th>4</th>\n",
       "      <td>2.0</td>\n",
       "      <td>12.0</td>\n",
       "      <td>1.0</td>\n",
       "      <td>1.0</td>\n",
       "      <td>11.0</td>\n",
       "      <td>4.0</td>\n",
       "      <td>6.0</td>\n",
       "      <td>9.0</td>\n",
       "      <td>4.0</td>\n",
       "      <td>3.0</td>\n",
       "      <td>...</td>\n",
       "      <td>23.0</td>\n",
       "      <td>9.0</td>\n",
       "      <td>6.0</td>\n",
       "      <td>9.0</td>\n",
       "      <td>34.0</td>\n",
       "      <td>2.0</td>\n",
       "      <td>3.0</td>\n",
       "      <td>NaN</td>\n",
       "      <td>70.0</td>\n",
       "      <td>14.0</td>\n",
       "    </tr>\n",
       "  </tbody>\n",
       "</table>\n",
       "<p>5 rows × 175 columns</p>\n",
       "</div>"
      ],
      "text/plain": [
       "     0     1    10   100     2  2010     3     4     5     7  ...   what  \\\n",
       "0  2.0  19.0   3.0   1.0  28.0   1.0  26.0  14.0   9.0   1.0  ...   60.0   \n",
       "1  6.0  69.0  54.0  21.0  62.0   9.0  65.0  37.0  56.0  35.0  ...   65.0   \n",
       "2  2.0  27.0   7.0   9.0  64.0   4.0  76.0  28.0  26.0   6.0  ...  140.0   \n",
       "3  NaN   1.0  19.0   1.0   1.0   1.0   1.0   1.0   6.0   NaN  ...    3.0   \n",
       "4  2.0  12.0   1.0   1.0  11.0   4.0   6.0   9.0   4.0   3.0  ...   23.0   \n",
       "\n",
       "    when    who  will   with  would  www  xea    you   your  \n",
       "0   28.0   54.0  34.0   95.0   23.0  NaN  NaN  445.0  146.0  \n",
       "1   31.0   53.0  87.0  194.0   23.0  NaN  NaN  231.0  124.0  \n",
       "2  115.0  105.0  65.0  175.0   54.0  NaN  NaN  345.0   56.0  \n",
       "3    NaN    2.0   9.0   12.0    NaN  1.0  NaN   12.0    8.0  \n",
       "4    9.0    6.0   9.0   34.0    2.0  3.0  NaN   70.0   14.0  \n",
       "\n",
       "[5 rows x 175 columns]"
      ]
     },
     "execution_count": 40,
     "metadata": {},
     "output_type": "execute_result"
    }
   ],
   "source": [
    "token_df.head()"
   ]
  },
  {
   "cell_type": "code",
   "execution_count": 41,
   "id": "6bf42c44-b8aa-45d0-8d46-1d19e3735908",
   "metadata": {},
   "outputs": [],
   "source": [
    "token_df = token_df.fillna(value = 0)\n",
    "labels = bots_df[\"bot_or_not\"]"
   ]
  },
  {
   "cell_type": "code",
   "execution_count": 42,
   "id": "1b3d05b3-22ad-484b-a4b3-a5402a73f1f9",
   "metadata": {},
   "outputs": [
    {
     "data": {
      "text/plain": [
       "human    1085\n",
       "bot      1001\n",
       "Name: bot_or_not, dtype: int64"
      ]
     },
     "execution_count": 42,
     "metadata": {},
     "output_type": "execute_result"
    }
   ],
   "source": [
    "bots_df[\"bot_or_not\"].value_counts()"
   ]
  },
  {
   "cell_type": "code",
   "execution_count": 43,
   "id": "37b5caa0-538e-4286-8ada-b29dbf4f31c8",
   "metadata": {},
   "outputs": [
    {
     "data": {
      "text/plain": [
       "((2086, 175), 2086)"
      ]
     },
     "execution_count": 43,
     "metadata": {},
     "output_type": "execute_result"
    }
   ],
   "source": [
    "token_df.shape, len(labels)"
   ]
  },
  {
   "cell_type": "code",
   "execution_count": 44,
   "id": "fcaa861f-5ef8-4aae-ad39-1ac4ec6165a5",
   "metadata": {},
   "outputs": [],
   "source": [
    "out_df = token_df.copy()\n",
    "out_df[\"bot_or_not\"] = bots_df[\"bot_or_not\"]\n",
    "out_df.to_csv(\"token_df.csv\", index = False)"
   ]
  },
  {
   "cell_type": "code",
   "execution_count": 45,
   "id": "ce3201f3-5d56-4f7a-8e99-6529547e9794",
   "metadata": {},
   "outputs": [],
   "source": [
    "# token_df = pd.read_csv(\"token_df.csv\")\n",
    "# labels = token_df[\"bot_or_not\"]\n",
    "# token_df = token_df.drop(\"bot_or_not\")"
   ]
  },
  {
   "cell_type": "code",
   "execution_count": 46,
   "id": "cc41ed5f-59ee-4d08-92af-a826d5b6ea02",
   "metadata": {},
   "outputs": [
    {
     "data": {
      "text/html": [
       "<div>\n",
       "<style scoped>\n",
       "    .dataframe tbody tr th:only-of-type {\n",
       "        vertical-align: middle;\n",
       "    }\n",
       "\n",
       "    .dataframe tbody tr th {\n",
       "        vertical-align: top;\n",
       "    }\n",
       "\n",
       "    .dataframe thead th {\n",
       "        text-align: right;\n",
       "    }\n",
       "</style>\n",
       "<table border=\"1\" class=\"dataframe\">\n",
       "  <thead>\n",
       "    <tr style=\"text-align: right;\">\n",
       "      <th></th>\n",
       "      <th>0</th>\n",
       "      <th>1</th>\n",
       "      <th>10</th>\n",
       "      <th>100</th>\n",
       "      <th>2</th>\n",
       "      <th>2010</th>\n",
       "      <th>3</th>\n",
       "      <th>4</th>\n",
       "      <th>5</th>\n",
       "      <th>7</th>\n",
       "      <th>...</th>\n",
       "      <th>what</th>\n",
       "      <th>when</th>\n",
       "      <th>who</th>\n",
       "      <th>will</th>\n",
       "      <th>with</th>\n",
       "      <th>would</th>\n",
       "      <th>www</th>\n",
       "      <th>xea</th>\n",
       "      <th>you</th>\n",
       "      <th>your</th>\n",
       "    </tr>\n",
       "  </thead>\n",
       "  <tbody>\n",
       "    <tr>\n",
       "      <th>0</th>\n",
       "      <td>2.0</td>\n",
       "      <td>19.0</td>\n",
       "      <td>3.0</td>\n",
       "      <td>1.0</td>\n",
       "      <td>28.0</td>\n",
       "      <td>1.0</td>\n",
       "      <td>26.0</td>\n",
       "      <td>14.0</td>\n",
       "      <td>9.0</td>\n",
       "      <td>1.0</td>\n",
       "      <td>...</td>\n",
       "      <td>60.0</td>\n",
       "      <td>28.0</td>\n",
       "      <td>54.0</td>\n",
       "      <td>34.0</td>\n",
       "      <td>95.0</td>\n",
       "      <td>23.0</td>\n",
       "      <td>0.0</td>\n",
       "      <td>0.0</td>\n",
       "      <td>445.0</td>\n",
       "      <td>146.0</td>\n",
       "    </tr>\n",
       "    <tr>\n",
       "      <th>1</th>\n",
       "      <td>6.0</td>\n",
       "      <td>69.0</td>\n",
       "      <td>54.0</td>\n",
       "      <td>21.0</td>\n",
       "      <td>62.0</td>\n",
       "      <td>9.0</td>\n",
       "      <td>65.0</td>\n",
       "      <td>37.0</td>\n",
       "      <td>56.0</td>\n",
       "      <td>35.0</td>\n",
       "      <td>...</td>\n",
       "      <td>65.0</td>\n",
       "      <td>31.0</td>\n",
       "      <td>53.0</td>\n",
       "      <td>87.0</td>\n",
       "      <td>194.0</td>\n",
       "      <td>23.0</td>\n",
       "      <td>0.0</td>\n",
       "      <td>0.0</td>\n",
       "      <td>231.0</td>\n",
       "      <td>124.0</td>\n",
       "    </tr>\n",
       "    <tr>\n",
       "      <th>2</th>\n",
       "      <td>2.0</td>\n",
       "      <td>27.0</td>\n",
       "      <td>7.0</td>\n",
       "      <td>9.0</td>\n",
       "      <td>64.0</td>\n",
       "      <td>4.0</td>\n",
       "      <td>76.0</td>\n",
       "      <td>28.0</td>\n",
       "      <td>26.0</td>\n",
       "      <td>6.0</td>\n",
       "      <td>...</td>\n",
       "      <td>140.0</td>\n",
       "      <td>115.0</td>\n",
       "      <td>105.0</td>\n",
       "      <td>65.0</td>\n",
       "      <td>175.0</td>\n",
       "      <td>54.0</td>\n",
       "      <td>0.0</td>\n",
       "      <td>0.0</td>\n",
       "      <td>345.0</td>\n",
       "      <td>56.0</td>\n",
       "    </tr>\n",
       "    <tr>\n",
       "      <th>3</th>\n",
       "      <td>0.0</td>\n",
       "      <td>1.0</td>\n",
       "      <td>19.0</td>\n",
       "      <td>1.0</td>\n",
       "      <td>1.0</td>\n",
       "      <td>1.0</td>\n",
       "      <td>1.0</td>\n",
       "      <td>1.0</td>\n",
       "      <td>6.0</td>\n",
       "      <td>0.0</td>\n",
       "      <td>...</td>\n",
       "      <td>3.0</td>\n",
       "      <td>0.0</td>\n",
       "      <td>2.0</td>\n",
       "      <td>9.0</td>\n",
       "      <td>12.0</td>\n",
       "      <td>0.0</td>\n",
       "      <td>1.0</td>\n",
       "      <td>0.0</td>\n",
       "      <td>12.0</td>\n",
       "      <td>8.0</td>\n",
       "    </tr>\n",
       "    <tr>\n",
       "      <th>4</th>\n",
       "      <td>2.0</td>\n",
       "      <td>12.0</td>\n",
       "      <td>1.0</td>\n",
       "      <td>1.0</td>\n",
       "      <td>11.0</td>\n",
       "      <td>4.0</td>\n",
       "      <td>6.0</td>\n",
       "      <td>9.0</td>\n",
       "      <td>4.0</td>\n",
       "      <td>3.0</td>\n",
       "      <td>...</td>\n",
       "      <td>23.0</td>\n",
       "      <td>9.0</td>\n",
       "      <td>6.0</td>\n",
       "      <td>9.0</td>\n",
       "      <td>34.0</td>\n",
       "      <td>2.0</td>\n",
       "      <td>3.0</td>\n",
       "      <td>0.0</td>\n",
       "      <td>70.0</td>\n",
       "      <td>14.0</td>\n",
       "    </tr>\n",
       "    <tr>\n",
       "      <th>...</th>\n",
       "      <td>...</td>\n",
       "      <td>...</td>\n",
       "      <td>...</td>\n",
       "      <td>...</td>\n",
       "      <td>...</td>\n",
       "      <td>...</td>\n",
       "      <td>...</td>\n",
       "      <td>...</td>\n",
       "      <td>...</td>\n",
       "      <td>...</td>\n",
       "      <td>...</td>\n",
       "      <td>...</td>\n",
       "      <td>...</td>\n",
       "      <td>...</td>\n",
       "      <td>...</td>\n",
       "      <td>...</td>\n",
       "      <td>...</td>\n",
       "      <td>...</td>\n",
       "      <td>...</td>\n",
       "      <td>...</td>\n",
       "      <td>...</td>\n",
       "    </tr>\n",
       "    <tr>\n",
       "      <th>2081</th>\n",
       "      <td>19.0</td>\n",
       "      <td>86.0</td>\n",
       "      <td>69.0</td>\n",
       "      <td>2.0</td>\n",
       "      <td>130.0</td>\n",
       "      <td>3.0</td>\n",
       "      <td>115.0</td>\n",
       "      <td>111.0</td>\n",
       "      <td>62.0</td>\n",
       "      <td>31.0</td>\n",
       "      <td>...</td>\n",
       "      <td>68.0</td>\n",
       "      <td>72.0</td>\n",
       "      <td>24.0</td>\n",
       "      <td>60.0</td>\n",
       "      <td>311.0</td>\n",
       "      <td>40.0</td>\n",
       "      <td>0.0</td>\n",
       "      <td>0.0</td>\n",
       "      <td>398.0</td>\n",
       "      <td>96.0</td>\n",
       "    </tr>\n",
       "    <tr>\n",
       "      <th>2082</th>\n",
       "      <td>9.0</td>\n",
       "      <td>40.0</td>\n",
       "      <td>16.0</td>\n",
       "      <td>13.0</td>\n",
       "      <td>33.0</td>\n",
       "      <td>0.0</td>\n",
       "      <td>36.0</td>\n",
       "      <td>14.0</td>\n",
       "      <td>25.0</td>\n",
       "      <td>12.0</td>\n",
       "      <td>...</td>\n",
       "      <td>133.0</td>\n",
       "      <td>79.0</td>\n",
       "      <td>108.0</td>\n",
       "      <td>76.0</td>\n",
       "      <td>170.0</td>\n",
       "      <td>52.0</td>\n",
       "      <td>0.0</td>\n",
       "      <td>0.0</td>\n",
       "      <td>420.0</td>\n",
       "      <td>90.0</td>\n",
       "    </tr>\n",
       "    <tr>\n",
       "      <th>2083</th>\n",
       "      <td>3.0</td>\n",
       "      <td>31.0</td>\n",
       "      <td>22.0</td>\n",
       "      <td>22.0</td>\n",
       "      <td>28.0</td>\n",
       "      <td>2.0</td>\n",
       "      <td>29.0</td>\n",
       "      <td>21.0</td>\n",
       "      <td>18.0</td>\n",
       "      <td>11.0</td>\n",
       "      <td>...</td>\n",
       "      <td>121.0</td>\n",
       "      <td>69.0</td>\n",
       "      <td>78.0</td>\n",
       "      <td>183.0</td>\n",
       "      <td>256.0</td>\n",
       "      <td>61.0</td>\n",
       "      <td>1.0</td>\n",
       "      <td>0.0</td>\n",
       "      <td>906.0</td>\n",
       "      <td>216.0</td>\n",
       "    </tr>\n",
       "    <tr>\n",
       "      <th>2084</th>\n",
       "      <td>19.0</td>\n",
       "      <td>48.0</td>\n",
       "      <td>38.0</td>\n",
       "      <td>11.0</td>\n",
       "      <td>62.0</td>\n",
       "      <td>4.0</td>\n",
       "      <td>29.0</td>\n",
       "      <td>46.0</td>\n",
       "      <td>40.0</td>\n",
       "      <td>15.0</td>\n",
       "      <td>...</td>\n",
       "      <td>64.0</td>\n",
       "      <td>39.0</td>\n",
       "      <td>48.0</td>\n",
       "      <td>100.0</td>\n",
       "      <td>226.0</td>\n",
       "      <td>45.0</td>\n",
       "      <td>0.0</td>\n",
       "      <td>0.0</td>\n",
       "      <td>328.0</td>\n",
       "      <td>88.0</td>\n",
       "    </tr>\n",
       "    <tr>\n",
       "      <th>2085</th>\n",
       "      <td>24.0</td>\n",
       "      <td>34.0</td>\n",
       "      <td>9.0</td>\n",
       "      <td>2.0</td>\n",
       "      <td>28.0</td>\n",
       "      <td>0.0</td>\n",
       "      <td>14.0</td>\n",
       "      <td>1.0</td>\n",
       "      <td>5.0</td>\n",
       "      <td>5.0</td>\n",
       "      <td>...</td>\n",
       "      <td>27.0</td>\n",
       "      <td>9.0</td>\n",
       "      <td>10.0</td>\n",
       "      <td>15.0</td>\n",
       "      <td>31.0</td>\n",
       "      <td>5.0</td>\n",
       "      <td>3.0</td>\n",
       "      <td>0.0</td>\n",
       "      <td>101.0</td>\n",
       "      <td>43.0</td>\n",
       "    </tr>\n",
       "  </tbody>\n",
       "</table>\n",
       "<p>2086 rows × 175 columns</p>\n",
       "</div>"
      ],
      "text/plain": [
       "         0     1    10   100      2  2010      3      4     5     7  ...  \\\n",
       "0      2.0  19.0   3.0   1.0   28.0   1.0   26.0   14.0   9.0   1.0  ...   \n",
       "1      6.0  69.0  54.0  21.0   62.0   9.0   65.0   37.0  56.0  35.0  ...   \n",
       "2      2.0  27.0   7.0   9.0   64.0   4.0   76.0   28.0  26.0   6.0  ...   \n",
       "3      0.0   1.0  19.0   1.0    1.0   1.0    1.0    1.0   6.0   0.0  ...   \n",
       "4      2.0  12.0   1.0   1.0   11.0   4.0    6.0    9.0   4.0   3.0  ...   \n",
       "...    ...   ...   ...   ...    ...   ...    ...    ...   ...   ...  ...   \n",
       "2081  19.0  86.0  69.0   2.0  130.0   3.0  115.0  111.0  62.0  31.0  ...   \n",
       "2082   9.0  40.0  16.0  13.0   33.0   0.0   36.0   14.0  25.0  12.0  ...   \n",
       "2083   3.0  31.0  22.0  22.0   28.0   2.0   29.0   21.0  18.0  11.0  ...   \n",
       "2084  19.0  48.0  38.0  11.0   62.0   4.0   29.0   46.0  40.0  15.0  ...   \n",
       "2085  24.0  34.0   9.0   2.0   28.0   0.0   14.0    1.0   5.0   5.0  ...   \n",
       "\n",
       "       what   when    who   will   with  would  www  xea    you   your  \n",
       "0      60.0   28.0   54.0   34.0   95.0   23.0  0.0  0.0  445.0  146.0  \n",
       "1      65.0   31.0   53.0   87.0  194.0   23.0  0.0  0.0  231.0  124.0  \n",
       "2     140.0  115.0  105.0   65.0  175.0   54.0  0.0  0.0  345.0   56.0  \n",
       "3       3.0    0.0    2.0    9.0   12.0    0.0  1.0  0.0   12.0    8.0  \n",
       "4      23.0    9.0    6.0    9.0   34.0    2.0  3.0  0.0   70.0   14.0  \n",
       "...     ...    ...    ...    ...    ...    ...  ...  ...    ...    ...  \n",
       "2081   68.0   72.0   24.0   60.0  311.0   40.0  0.0  0.0  398.0   96.0  \n",
       "2082  133.0   79.0  108.0   76.0  170.0   52.0  0.0  0.0  420.0   90.0  \n",
       "2083  121.0   69.0   78.0  183.0  256.0   61.0  1.0  0.0  906.0  216.0  \n",
       "2084   64.0   39.0   48.0  100.0  226.0   45.0  0.0  0.0  328.0   88.0  \n",
       "2085   27.0    9.0   10.0   15.0   31.0    5.0  3.0  0.0  101.0   43.0  \n",
       "\n",
       "[2086 rows x 175 columns]"
      ]
     },
     "execution_count": 46,
     "metadata": {},
     "output_type": "execute_result"
    }
   ],
   "source": [
    "token_df"
   ]
  },
  {
   "cell_type": "markdown",
   "id": "37f70fb0-4454-47d8-ba75-0da0e9de904b",
   "metadata": {},
   "source": [
    "## Word frequency"
   ]
  },
  {
   "cell_type": "markdown",
   "id": "2087ccd2-b59b-43dd-a7ba-f54bb357ae03",
   "metadata": {},
   "source": [
    "This is code is inspired by SPAM-INGEST2.ipynb from Prof. Trimble"
   ]
  },
  {
   "cell_type": "code",
   "execution_count": 47,
   "id": "c4690b6a-0080-4bd5-9820-69d8ee1c80d4",
   "metadata": {},
   "outputs": [],
   "source": [
    "with open('bots_freq.pkl', 'rb') as f:\n",
    "    bots_freq = pickle.load(f)\n",
    "\n",
    "with open('humans_freq.pkl', 'rb') as f:\n",
    "      humans_freq = pickle.load(f)\n",
    "        \n",
    "with open('filt_tokens.pkl', 'rb') as f:\n",
    "      filt_tokens = pickle.load(f)"
   ]
  },
  {
   "cell_type": "code",
   "execution_count": 48,
   "id": "08b943a8-1e8f-4dda-8335-3bc3ca61c01a",
   "metadata": {},
   "outputs": [],
   "source": [
    "# Making a larger set of filtered tokens to display\n",
    "\n",
    "dict_filter = lambda word_dict: dict( (word, word_dict[word]) for word in word_dict if (word_dict[word] > 0.00001*word_dict.N() and word not in words_to_remove))\n",
    "bots_filt = dict_filter(bots_freq)\n",
    "humans_filt = dict_filter(humans_freq)\n",
    "\n",
    "filt_tokens2 = list(humans_filt.keys())\n",
    "filt_tokens2.extend(list(bots_filt.keys()))\n",
    "\n",
    "filt_tokens2 = pd.Series(filt_tokens2).unique()\n",
    "\n"
   ]
  },
  {
   "cell_type": "code",
   "execution_count": 49,
   "id": "9c6743f6-fd50-40ff-b2c8-19cb38432f2e",
   "metadata": {
    "tags": []
   },
   "outputs": [],
   "source": [
    "freq_df = pd.DataFrame(columns = [\"word\", \"bot\", \"human\"])\n",
    "\n",
    "# words = np.union1d(list(bots_freq.keys()), list(humans_freq.keys()))\n",
    "\n",
    "words = list(filt_tokens2)\n",
    "\n",
    "for i in words:\n",
    "    new_row = {\"word\":i, \"bot\": bots_freq[i], \"human\": humans_freq[i]}\n",
    "    freq_df = freq_df.append(new_row, ignore_index = True)\n"
   ]
  },
  {
   "cell_type": "code",
   "execution_count": 50,
   "id": "139dbf90-eed2-485b-aed0-9ab5869fb9be",
   "metadata": {},
   "outputs": [
    {
     "data": {
      "text/plain": [
       "12284"
      ]
     },
     "execution_count": 50,
     "metadata": {},
     "output_type": "execute_result"
    }
   ],
   "source": [
    "len(filt_tokens2)"
   ]
  },
  {
   "cell_type": "code",
   "execution_count": 102,
   "id": "7b08c2ac-2e02-48e9-9103-89cc1bf3e036",
   "metadata": {},
   "outputs": [
    {
     "data": {
      "text/plain": [
       "(12284, 3)"
      ]
     },
     "execution_count": 102,
     "metadata": {},
     "output_type": "execute_result"
    }
   ],
   "source": [
    "freq_df.shape"
   ]
  },
  {
   "cell_type": "code",
   "execution_count": 158,
   "id": "0cf8a7fd-a8d2-476a-9edb-03edbd54ca80",
   "metadata": {},
   "outputs": [
    {
     "data": {
      "text/html": [
       "<div>\n",
       "<style scoped>\n",
       "    .dataframe tbody tr th:only-of-type {\n",
       "        vertical-align: middle;\n",
       "    }\n",
       "\n",
       "    .dataframe tbody tr th {\n",
       "        vertical-align: top;\n",
       "    }\n",
       "\n",
       "    .dataframe thead th {\n",
       "        text-align: right;\n",
       "    }\n",
       "</style>\n",
       "<table border=\"1\" class=\"dataframe\">\n",
       "  <thead>\n",
       "    <tr style=\"text-align: right;\">\n",
       "      <th></th>\n",
       "      <th>word</th>\n",
       "      <th>bot</th>\n",
       "      <th>human</th>\n",
       "    </tr>\n",
       "  </thead>\n",
       "  <tbody>\n",
       "    <tr>\n",
       "      <th>8455</th>\n",
       "      <td>camisa</td>\n",
       "      <td>54</td>\n",
       "      <td>35</td>\n",
       "    </tr>\n",
       "    <tr>\n",
       "      <th>8456</th>\n",
       "      <td>Tarde</td>\n",
       "      <td>54</td>\n",
       "      <td>17</td>\n",
       "    </tr>\n",
       "    <tr>\n",
       "      <th>8458</th>\n",
       "      <td>Participe</td>\n",
       "      <td>54</td>\n",
       "      <td>2</td>\n",
       "    </tr>\n",
       "    <tr>\n",
       "      <th>8460</th>\n",
       "      <td>seguidor</td>\n",
       "      <td>54</td>\n",
       "      <td>7</td>\n",
       "    </tr>\n",
       "    <tr>\n",
       "      <th>8462</th>\n",
       "      <td>HSE</td>\n",
       "      <td>54</td>\n",
       "      <td>0</td>\n",
       "    </tr>\n",
       "    <tr>\n",
       "      <th>...</th>\n",
       "      <td>...</td>\n",
       "      <td>...</td>\n",
       "      <td>...</td>\n",
       "    </tr>\n",
       "    <tr>\n",
       "      <th>7462</th>\n",
       "      <td>u0131l</td>\n",
       "      <td>606</td>\n",
       "      <td>0</td>\n",
       "    </tr>\n",
       "    <tr>\n",
       "      <th>7461</th>\n",
       "      <td>resultado</td>\n",
       "      <td>626</td>\n",
       "      <td>88</td>\n",
       "    </tr>\n",
       "    <tr>\n",
       "      <th>7460</th>\n",
       "      <td>Dilma</td>\n",
       "      <td>641</td>\n",
       "      <td>6</td>\n",
       "    </tr>\n",
       "    <tr>\n",
       "      <th>4858</th>\n",
       "      <td>alot</td>\n",
       "      <td>643</td>\n",
       "      <td>471</td>\n",
       "    </tr>\n",
       "    <tr>\n",
       "      <th>7459</th>\n",
       "      <td>bem</td>\n",
       "      <td>646</td>\n",
       "      <td>84</td>\n",
       "    </tr>\n",
       "  </tbody>\n",
       "</table>\n",
       "<p>800 rows × 3 columns</p>\n",
       "</div>"
      ],
      "text/plain": [
       "           word  bot human\n",
       "8455     camisa   54    35\n",
       "8456      Tarde   54    17\n",
       "8458  Participe   54     2\n",
       "8460   seguidor   54     7\n",
       "8462        HSE   54     0\n",
       "...         ...  ...   ...\n",
       "7462     u0131l  606     0\n",
       "7461  resultado  626    88\n",
       "7460      Dilma  641     6\n",
       "4858       alot  643   471\n",
       "7459        bem  646    84\n",
       "\n",
       "[800 rows x 3 columns]"
      ]
     },
     "execution_count": 158,
     "metadata": {},
     "output_type": "execute_result"
    }
   ],
   "source": [
    "freq_df[(freq_df[\"bot\"] > freq_df[\"human\"])].sort_values(by = \"bot\")[2000:2800]"
   ]
  },
  {
   "cell_type": "code",
   "execution_count": 101,
   "id": "b6e5ec37-f26d-4314-9277-afc2fee5d65d",
   "metadata": {},
   "outputs": [
    {
     "data": {
      "image/png": "[encoded data removed]",
      "text/plain": [
       "<Figure size 1000x1000 with 1 Axes>"
      ]
     },
     "metadata": {},
     "output_type": "display_data"
    }
   ],
   "source": [
    "# Human vs Bot frequency\n",
    "N_human = humans_freq.N()\n",
    "N_bot = bots_freq.N()\n",
    "\n",
    "FLT_jitter = -0.5\n",
    "\n",
    "top_bot_words = freq_df.sort_values(by = \"bot\", ascending = False).iloc[0:50][\"word\"].values\n",
    "top_human_words = freq_df.sort_values(by = \"human\", ascending = False).iloc[0:50][\"word\"].values\n",
    "top_words = np.union1d(top_bot_words, top_human_words)\n",
    "\n",
    "fig, ax = plt.subplots(figsize = (10, 10))\n",
    "ax.loglog(freq_df[\"bot\"]/N_bot, freq_df[\"human\"]/N_human,'.')\n",
    "ax.plot([1E-6,1E-1], [1E-6,1E-1], color='k', linestyle='-',linewidth = 1)\n",
    "ax.set_xlabel('Bot word frequencies (log scale)')\n",
    "ax.set_ylabel('Human word frequencies (log scale)')\n",
    "for i in freq_df.index:\n",
    "    if freq_df.loc[i,\"word\"] in top_words:\n",
    "        ax.annotate( freq_df.loc[i,\"word\"], ((freq_df.loc[i, \"bot\"]+FLT_jitter)/bots_freq.N(), (freq_df.loc[i,\"human\"]+FLT_jitter)/humans_freq.N()), fontsize = 12)\n",
    "        \n",
    "        \n",
    "plt.savefig(\"word_freq.png\")"
   ]
  },
  {
   "cell_type": "code",
   "execution_count": null,
   "id": "64360faa-b85c-41f5-82ba-e6a9c1ac3e41",
   "metadata": {},
   "outputs": [],
   "source": []
  },
  {
   "cell_type": "markdown",
   "id": "49aec1bb-ef80-45ee-881d-6a4bfbd172c9",
   "metadata": {
    "tags": []
   },
   "source": [
    "## Model"
   ]
  },
  {
   "cell_type": "code",
   "execution_count": 52,
   "id": "66f444fb-777d-41b0-9102-2b1dfc6271c3",
   "metadata": {},
   "outputs": [],
   "source": [
    "X_train, X_test, y_train, y_test = train_test_split(token_df, labels.values.ravel(), test_size = 0.5)"
   ]
  },
  {
   "cell_type": "code",
   "execution_count": 53,
   "id": "fc975ac1-f867-402f-bb6e-a1c742e65f2d",
   "metadata": {},
   "outputs": [
    {
     "data": {
      "text/plain": [
       "MultinomialNB()"
      ]
     },
     "execution_count": 53,
     "metadata": {},
     "output_type": "execute_result"
    }
   ],
   "source": [
    "nb = MultinomialNB()\n",
    "nb.fit(X_train, y_train)"
   ]
  },
  {
   "cell_type": "code",
   "execution_count": 54,
   "id": "7ff3f637-28cb-42a9-aebc-cbab84eb6a7c",
   "metadata": {},
   "outputs": [
    {
     "data": {
      "text/plain": [
       "(0.8485139022051774, 0.8322147651006712)"
      ]
     },
     "execution_count": 54,
     "metadata": {},
     "output_type": "execute_result"
    }
   ],
   "source": [
    "nb.score(X_train, y_train), nb.score(X_test, y_test)"
   ]
  },
  {
   "cell_type": "code",
   "execution_count": 55,
   "id": "3ad8e6f9-b836-4e95-8858-de3c8e03118b",
   "metadata": {},
   "outputs": [
    {
     "name": "stdout",
     "output_type": "stream",
     "text": [
      "              precision    recall  f1-score   support\n",
      "\n",
      "         bot       0.96      0.71      0.82       496\n",
      "       human       0.79      0.97      0.87       547\n",
      "\n",
      "    accuracy                           0.85      1043\n",
      "   macro avg       0.87      0.84      0.84      1043\n",
      "weighted avg       0.87      0.85      0.85      1043\n",
      "\n"
     ]
    }
   ],
   "source": [
    "print(metrics.classification_report(y_train, nb.predict(X_train)))\n",
    "# recall of positive class is sensitivity; recall of negative is specificity"
   ]
  },
  {
   "cell_type": "code",
   "execution_count": 56,
   "id": "9b3dee2a-d471-4e5e-8319-ba174e822e1c",
   "metadata": {},
   "outputs": [
    {
     "name": "stdout",
     "output_type": "stream",
     "text": [
      "              precision    recall  f1-score   support\n",
      "\n",
      "         bot       0.94      0.70      0.80       505\n",
      "       human       0.77      0.96      0.86       538\n",
      "\n",
      "    accuracy                           0.83      1043\n",
      "   macro avg       0.86      0.83      0.83      1043\n",
      "weighted avg       0.85      0.83      0.83      1043\n",
      "\n"
     ]
    }
   ],
   "source": [
    "print(metrics.classification_report(y_test, nb.predict(X_test)))"
   ]
  },
  {
   "cell_type": "code",
   "execution_count": 57,
   "id": "10d6c733-8b75-4b16-8bce-ea0e62128b8a",
   "metadata": {},
   "outputs": [
    {
     "name": "stderr",
     "output_type": "stream",
     "text": [
      "/Users/alancooper/opt/anaconda3/lib/python3.7/site-packages/sklearn/utils/deprecation.py:103: FutureWarning: Attribute `coef_` was deprecated in version 0.24 and will be removed in 1.1 (renaming of 0.26).\n",
      "  warnings.warn(msg, category=FutureWarning)\n"
     ]
    }
   ],
   "source": [
    "coef_df = pd.DataFrame({\"word\":token_df.columns, \"coef\": nb.coef_[0]})\n",
    "\n",
    "top = coef_df.sort_values(by = \"coef\")[1:20]\n",
    "\n",
    "# plt.scatter(x = top.values, y = np.abs(top.index))"
   ]
  },
  {
   "cell_type": "code",
   "execution_count": 98,
   "id": "930bb166-3232-4a6c-962e-0a048c206fe9",
   "metadata": {},
   "outputs": [],
   "source": [
    "def plot_tuning(X_df, y):\n",
    "    '''Plot coefficients for logistic regression features for varied regularization parameters.\n",
    "    Also find optimum regularization parameter based on test error'''\n",
    "    X_train, X_test, y_train, y_test = train_test_split(X_df, y, test_size = 0.5)\n",
    "\n",
    "    # Regularization parameters\n",
    "    alpha_range = np.arange(1e-8,1+0.1,0.01)\n",
    "    \n",
    "    # Accuracy\n",
    "    train_acc = np.array([])\n",
    "    test_acc = np.array([])\n",
    "    \n",
    "    for i in range(len(alpha_range)):\n",
    "    \n",
    "        # Logistic regression with L1 regularization\n",
    "        nb = MultinomialNB(alpha = i)\n",
    "        \n",
    "        # logreg = make_pipeline(preprocessor, LogisticRegression(max_iter = 1000, penalty = \"l1\", solver = \"liblinear\", C = C_range[i]))\n",
    "\n",
    "        # Fit\n",
    "        nb.fit(X_train, y_train.values.ravel())\n",
    "        \n",
    "        # Training accuracy \n",
    "        acc = nb.score(X_train, y_train.values.ravel())\n",
    "        train_acc = np.append(train_acc, acc)\n",
    "        \n",
    "        # Test accuracy\n",
    "        acc = nb.score(X_test, y_test.values.ravel())\n",
    "        test_acc = np.append(test_acc, acc)\n",
    "    \n",
    "    # Find optimal alpha that maximizes test accuracy\n",
    "    alpha_max = alpha_range[np.argmax(test_acc)]\n",
    "    \n",
    "    # Plot accuracy\n",
    "    plt.figure(figsize=(8,6))\n",
    "    plt.plot(alpha_range, train_acc, label = \"train\")\n",
    "    plt.plot(alpha_range, test_acc, label = \"test\")\n",
    "    # plt.axvline(x = alpha_max, color = \"r\", linestyle = \"dotted\")\n",
    "    plt.legend()\n",
    "    # plt.title(\"Optimum smoothing parameter by testing and training accuracy\")\n",
    "    plt.ylabel(\"Accuracy\")\n",
    "    plt.xlabel(\"Smoothing parameter \"+r\"$\\alpha$\")"
   ]
  },
  {
   "cell_type": "code",
   "execution_count": 99,
   "id": "4d2c61e7-5e55-40e4-a30b-419c1012b4a7",
   "metadata": {},
   "outputs": [
    {
     "name": "stderr",
     "output_type": "stream",
     "text": [
      "/Users/alancooper/opt/anaconda3/lib/python3.7/site-packages/sklearn/naive_bayes.py:557: UserWarning: alpha too small will result in numeric errors, setting alpha = 1.0e-10\n",
      "  % _ALPHA_MIN\n"
     ]
    },
    {
     "data": {
      "image/png": "[encoded data removed]",
      "text/plain": [
       "<Figure size 800x600 with 1 Axes>"
      ]
     },
     "metadata": {},
     "output_type": "display_data"
    }
   ],
   "source": [
    "plot_tuning(token_df, labels)\n",
    "plt.savefig(\"tuning.png\")"
   ]
  },
  {
   "cell_type": "code",
   "execution_count": 60,
   "id": "80a11d43-6abe-43f1-95cb-e9d0cb116b46",
   "metadata": {},
   "outputs": [
    {
     "data": {
      "image/png": "[encoded data removed]",
      "text/plain": [
       "<Figure size 640x480 with 2 Axes>"
      ]
     },
     "metadata": {},
     "output_type": "display_data"
    }
   ],
   "source": [
    "predictions = nb.predict(X_test)\n",
    "confusion_mat = metrics.confusion_matrix(predictions, y_test)\n",
    "metrics.ConfusionMatrixDisplay(confusion_mat, display_labels = [\"Bot\", \"Human\"]).plot()\n",
    "plt.savefig(\"confusion_matrix.png\")"
   ]
  },
  {
   "cell_type": "code",
   "execution_count": 61,
   "id": "8b115b6c-aa14-47f3-bf1e-8ecfbfcfb12d",
   "metadata": {},
   "outputs": [
    {
     "data": {
      "text/html": [
       "<div>\n",
       "<style scoped>\n",
       "    .dataframe tbody tr th:only-of-type {\n",
       "        vertical-align: middle;\n",
       "    }\n",
       "\n",
       "    .dataframe tbody tr th {\n",
       "        vertical-align: top;\n",
       "    }\n",
       "\n",
       "    .dataframe thead th {\n",
       "        text-align: right;\n",
       "    }\n",
       "</style>\n",
       "<table border=\"1\" class=\"dataframe\">\n",
       "  <thead>\n",
       "    <tr style=\"text-align: right;\">\n",
       "      <th>col_0</th>\n",
       "      <th>bot</th>\n",
       "      <th>human</th>\n",
       "    </tr>\n",
       "    <tr>\n",
       "      <th>row_0</th>\n",
       "      <th></th>\n",
       "      <th></th>\n",
       "    </tr>\n",
       "  </thead>\n",
       "  <tbody>\n",
       "    <tr>\n",
       "      <th>bot</th>\n",
       "      <td>351</td>\n",
       "      <td>154</td>\n",
       "    </tr>\n",
       "    <tr>\n",
       "      <th>human</th>\n",
       "      <td>21</td>\n",
       "      <td>517</td>\n",
       "    </tr>\n",
       "  </tbody>\n",
       "</table>\n",
       "</div>"
      ],
      "text/plain": [
       "col_0  bot  human\n",
       "row_0            \n",
       "bot    351    154\n",
       "human   21    517"
      ]
     },
     "execution_count": 61,
     "metadata": {},
     "output_type": "execute_result"
    }
   ],
   "source": [
    "pd.crosstab(y_test, predictions)"
   ]
  },
  {
   "cell_type": "markdown",
   "id": "0812fe7a-88eb-460d-b9f8-e67c7784279b",
   "metadata": {},
   "source": [
    "## Validation"
   ]
  },
  {
   "cell_type": "markdown",
   "id": "2dc3d77a-965a-4fb2-8aee-3f2f7cc99b7b",
   "metadata": {},
   "source": [
    "Data is from https://github.com/fivethirtyeight/russian-troll-tweets"
   ]
  },
  {
   "cell_type": "code",
   "execution_count": 62,
   "id": "459e3e8c-7df5-4e90-b336-69f2e262891c",
   "metadata": {},
   "outputs": [],
   "source": [
    "russia_df = pd.read_csv(\"IRAhandle_tweets_1.csv\")"
   ]
  },
  {
   "cell_type": "code",
   "execution_count": 63,
   "id": "231aa00c-acce-4e59-98c0-7c1d620ff5f7",
   "metadata": {},
   "outputs": [
    {
     "data": {
      "text/html": [
       "<div>\n",
       "<style scoped>\n",
       "    .dataframe tbody tr th:only-of-type {\n",
       "        vertical-align: middle;\n",
       "    }\n",
       "\n",
       "    .dataframe tbody tr th {\n",
       "        vertical-align: top;\n",
       "    }\n",
       "\n",
       "    .dataframe thead th {\n",
       "        text-align: right;\n",
       "    }\n",
       "</style>\n",
       "<table border=\"1\" class=\"dataframe\">\n",
       "  <thead>\n",
       "    <tr style=\"text-align: right;\">\n",
       "      <th></th>\n",
       "      <th>external_author_id</th>\n",
       "      <th>author</th>\n",
       "      <th>content</th>\n",
       "      <th>region</th>\n",
       "      <th>language</th>\n",
       "      <th>publish_date</th>\n",
       "      <th>harvested_date</th>\n",
       "      <th>following</th>\n",
       "      <th>followers</th>\n",
       "      <th>updates</th>\n",
       "      <th>...</th>\n",
       "      <th>account_type</th>\n",
       "      <th>retweet</th>\n",
       "      <th>account_category</th>\n",
       "      <th>new_june_2018</th>\n",
       "      <th>alt_external_id</th>\n",
       "      <th>tweet_id</th>\n",
       "      <th>article_url</th>\n",
       "      <th>tco1_step1</th>\n",
       "      <th>tco2_step1</th>\n",
       "      <th>tco3_step1</th>\n",
       "    </tr>\n",
       "  </thead>\n",
       "  <tbody>\n",
       "    <tr>\n",
       "      <th>0</th>\n",
       "      <td>906000000000000000</td>\n",
       "      <td>10_GOP</td>\n",
       "      <td>\"We have a sitting Democrat US Senator on tria...</td>\n",
       "      <td>Unknown</td>\n",
       "      <td>English</td>\n",
       "      <td>10/1/2017 19:58</td>\n",
       "      <td>10/1/2017 19:59</td>\n",
       "      <td>1052</td>\n",
       "      <td>9636</td>\n",
       "      <td>253</td>\n",
       "      <td>...</td>\n",
       "      <td>Right</td>\n",
       "      <td>0</td>\n",
       "      <td>RightTroll</td>\n",
       "      <td>0</td>\n",
       "      <td>905874659358453760</td>\n",
       "      <td>914580356430536707</td>\n",
       "      <td>http://twitter.com/905874659358453760/statuses...</td>\n",
       "      <td>https://twitter.com/10_gop/status/914580356430...</td>\n",
       "      <td>NaN</td>\n",
       "      <td>NaN</td>\n",
       "    </tr>\n",
       "    <tr>\n",
       "      <th>1</th>\n",
       "      <td>906000000000000000</td>\n",
       "      <td>10_GOP</td>\n",
       "      <td>Marshawn Lynch arrives to game in anti-Trump s...</td>\n",
       "      <td>Unknown</td>\n",
       "      <td>English</td>\n",
       "      <td>10/1/2017 22:43</td>\n",
       "      <td>10/1/2017 22:43</td>\n",
       "      <td>1054</td>\n",
       "      <td>9637</td>\n",
       "      <td>254</td>\n",
       "      <td>...</td>\n",
       "      <td>Right</td>\n",
       "      <td>0</td>\n",
       "      <td>RightTroll</td>\n",
       "      <td>0</td>\n",
       "      <td>905874659358453760</td>\n",
       "      <td>914621840496189440</td>\n",
       "      <td>http://twitter.com/905874659358453760/statuses...</td>\n",
       "      <td>https://twitter.com/damienwoody/status/9145685...</td>\n",
       "      <td>NaN</td>\n",
       "      <td>NaN</td>\n",
       "    </tr>\n",
       "    <tr>\n",
       "      <th>2</th>\n",
       "      <td>906000000000000000</td>\n",
       "      <td>10_GOP</td>\n",
       "      <td>Daughter of fallen Navy Sailor delivers powerf...</td>\n",
       "      <td>Unknown</td>\n",
       "      <td>English</td>\n",
       "      <td>10/1/2017 22:50</td>\n",
       "      <td>10/1/2017 22:51</td>\n",
       "      <td>1054</td>\n",
       "      <td>9637</td>\n",
       "      <td>255</td>\n",
       "      <td>...</td>\n",
       "      <td>Right</td>\n",
       "      <td>1</td>\n",
       "      <td>RightTroll</td>\n",
       "      <td>0</td>\n",
       "      <td>905874659358453760</td>\n",
       "      <td>914623490375979008</td>\n",
       "      <td>http://twitter.com/905874659358453760/statuses...</td>\n",
       "      <td>https://twitter.com/10_gop/status/913231923715...</td>\n",
       "      <td>NaN</td>\n",
       "      <td>NaN</td>\n",
       "    </tr>\n",
       "    <tr>\n",
       "      <th>3</th>\n",
       "      <td>906000000000000000</td>\n",
       "      <td>10_GOP</td>\n",
       "      <td>JUST IN: President Trump dedicates Presidents ...</td>\n",
       "      <td>Unknown</td>\n",
       "      <td>English</td>\n",
       "      <td>10/1/2017 23:52</td>\n",
       "      <td>10/1/2017 23:52</td>\n",
       "      <td>1062</td>\n",
       "      <td>9642</td>\n",
       "      <td>256</td>\n",
       "      <td>...</td>\n",
       "      <td>Right</td>\n",
       "      <td>0</td>\n",
       "      <td>RightTroll</td>\n",
       "      <td>0</td>\n",
       "      <td>905874659358453760</td>\n",
       "      <td>914639143690555392</td>\n",
       "      <td>http://twitter.com/905874659358453760/statuses...</td>\n",
       "      <td>https://twitter.com/10_gop/status/914639143690...</td>\n",
       "      <td>NaN</td>\n",
       "      <td>NaN</td>\n",
       "    </tr>\n",
       "    <tr>\n",
       "      <th>4</th>\n",
       "      <td>906000000000000000</td>\n",
       "      <td>10_GOP</td>\n",
       "      <td>19,000 RESPECTING our National Anthem! #StandF...</td>\n",
       "      <td>Unknown</td>\n",
       "      <td>English</td>\n",
       "      <td>10/1/2017 2:13</td>\n",
       "      <td>10/1/2017 2:13</td>\n",
       "      <td>1050</td>\n",
       "      <td>9645</td>\n",
       "      <td>246</td>\n",
       "      <td>...</td>\n",
       "      <td>Right</td>\n",
       "      <td>1</td>\n",
       "      <td>RightTroll</td>\n",
       "      <td>0</td>\n",
       "      <td>905874659358453760</td>\n",
       "      <td>914312219952861184</td>\n",
       "      <td>http://twitter.com/905874659358453760/statuses...</td>\n",
       "      <td>https://twitter.com/realDonaldTrump/status/914...</td>\n",
       "      <td>NaN</td>\n",
       "      <td>NaN</td>\n",
       "    </tr>\n",
       "  </tbody>\n",
       "</table>\n",
       "<p>5 rows × 21 columns</p>\n",
       "</div>"
      ],
      "text/plain": [
       "   external_author_id  author  \\\n",
       "0  906000000000000000  10_GOP   \n",
       "1  906000000000000000  10_GOP   \n",
       "2  906000000000000000  10_GOP   \n",
       "3  906000000000000000  10_GOP   \n",
       "4  906000000000000000  10_GOP   \n",
       "\n",
       "                                             content   region language  \\\n",
       "0  \"We have a sitting Democrat US Senator on tria...  Unknown  English   \n",
       "1  Marshawn Lynch arrives to game in anti-Trump s...  Unknown  English   \n",
       "2  Daughter of fallen Navy Sailor delivers powerf...  Unknown  English   \n",
       "3  JUST IN: President Trump dedicates Presidents ...  Unknown  English   \n",
       "4  19,000 RESPECTING our National Anthem! #StandF...  Unknown  English   \n",
       "\n",
       "      publish_date   harvested_date  following  followers  updates  ...  \\\n",
       "0  10/1/2017 19:58  10/1/2017 19:59       1052       9636      253  ...   \n",
       "1  10/1/2017 22:43  10/1/2017 22:43       1054       9637      254  ...   \n",
       "2  10/1/2017 22:50  10/1/2017 22:51       1054       9637      255  ...   \n",
       "3  10/1/2017 23:52  10/1/2017 23:52       1062       9642      256  ...   \n",
       "4   10/1/2017 2:13   10/1/2017 2:13       1050       9645      246  ...   \n",
       "\n",
       "  account_type retweet  account_category new_june_2018     alt_external_id  \\\n",
       "0        Right       0        RightTroll             0  905874659358453760   \n",
       "1        Right       0        RightTroll             0  905874659358453760   \n",
       "2        Right       1        RightTroll             0  905874659358453760   \n",
       "3        Right       0        RightTroll             0  905874659358453760   \n",
       "4        Right       1        RightTroll             0  905874659358453760   \n",
       "\n",
       "             tweet_id                                        article_url  \\\n",
       "0  914580356430536707  http://twitter.com/905874659358453760/statuses...   \n",
       "1  914621840496189440  http://twitter.com/905874659358453760/statuses...   \n",
       "2  914623490375979008  http://twitter.com/905874659358453760/statuses...   \n",
       "3  914639143690555392  http://twitter.com/905874659358453760/statuses...   \n",
       "4  914312219952861184  http://twitter.com/905874659358453760/statuses...   \n",
       "\n",
       "                                          tco1_step1 tco2_step1 tco3_step1  \n",
       "0  https://twitter.com/10_gop/status/914580356430...        NaN        NaN  \n",
       "1  https://twitter.com/damienwoody/status/9145685...        NaN        NaN  \n",
       "2  https://twitter.com/10_gop/status/913231923715...        NaN        NaN  \n",
       "3  https://twitter.com/10_gop/status/914639143690...        NaN        NaN  \n",
       "4  https://twitter.com/realDonaldTrump/status/914...        NaN        NaN  \n",
       "\n",
       "[5 rows x 21 columns]"
      ]
     },
     "execution_count": 63,
     "metadata": {},
     "output_type": "execute_result"
    }
   ],
   "source": [
    "russia_df.head()"
   ]
  },
  {
   "cell_type": "code",
   "execution_count": 64,
   "id": "1b9feee7-1cef-47f2-9faf-bd570ee42884",
   "metadata": {},
   "outputs": [
    {
     "data": {
      "text/plain": [
       "(243891, 21)"
      ]
     },
     "execution_count": 64,
     "metadata": {},
     "output_type": "execute_result"
    }
   ],
   "source": [
    "russia_df.shape"
   ]
  },
  {
   "cell_type": "code",
   "execution_count": 65,
   "id": "f0590afa-25ff-4238-a1c1-35db3c3b9bed",
   "metadata": {},
   "outputs": [],
   "source": [
    "russia_df = russia_df.rename(columns = {\"external_author_id\":\"user_id\", \"tweet_id\":\"id\", \"content\":\"text\"})\n",
    "russia_df = russia_df[[\"user_id\", \"id\", \"text\"]]\n",
    "russia_df[\"bot_or_not\"] = \"bot\""
   ]
  },
  {
   "cell_type": "code",
   "execution_count": 66,
   "id": "9a019e6c-3a0c-4676-a7fb-381cd9b60328",
   "metadata": {},
   "outputs": [],
   "source": [
    "# Condense by user\n",
    "russia_df = russia_df.groupby(by = \"user_id\").agg(lambda x: x.unique()).reset_index()\n",
    "\n",
    "# Convert tweet column from list to text\n",
    "russia_df[\"text\"] = russia_df[\"text\"].apply(lambda x: ''.join(x))"
   ]
  },
  {
   "cell_type": "code",
   "execution_count": 67,
   "id": "34c1c0b3-045f-4dfc-9fb0-e46b3d74a54e",
   "metadata": {},
   "outputs": [
    {
     "data": {
      "text/plain": [
       "(236, 3)"
      ]
     },
     "execution_count": 67,
     "metadata": {},
     "output_type": "execute_result"
    }
   ],
   "source": [
    "russia_df.shape"
   ]
  },
  {
   "cell_type": "code",
   "execution_count": 68,
   "id": "bd8dfe23-358b-482f-b731-5ac126845bb4",
   "metadata": {},
   "outputs": [],
   "source": [
    "# Pre-process\n",
    "filtered_text = russia_df.apply(lambda x: preprocess_text(x[\"text\"]), axis=1)\n",
    "russia_df[\"text\"] = filtered_text"
   ]
  },
  {
   "cell_type": "code",
   "execution_count": 69,
   "id": "fc99250f-577c-4ba2-8e2b-88658b6e8ded",
   "metadata": {},
   "outputs": [
    {
     "name": "stderr",
     "output_type": "stream",
     "text": [
      "/Users/alancooper/opt/anaconda3/lib/python3.7/site-packages/ipykernel_launcher.py:7: DeprecationWarning: The default dtype for empty Series will be 'object' instead of 'float64' in a future version. Specify a dtype explicitly to silence this warning.\n",
      "  import sys\n"
     ]
    }
   ],
   "source": [
    "# Tokenize\n",
    "russia_token_df = russia_df.apply(lambda x: fun_tokenize(x[\"text\"]), axis=1)"
   ]
  },
  {
   "cell_type": "code",
   "execution_count": 70,
   "id": "c7d97794-9eba-4e73-82a0-0c9b4fb25ff5",
   "metadata": {},
   "outputs": [],
   "source": [
    "russia_token_df = russia_token_df.fillna(value = 0)\n",
    "russia_labels = russia_df[\"bot_or_not\"]"
   ]
  },
  {
   "cell_type": "code",
   "execution_count": 71,
   "id": "d57d9fd9-3c36-4e7d-b93a-bca1c418f33b",
   "metadata": {},
   "outputs": [
    {
     "data": {
      "text/html": [
       "<div>\n",
       "<style scoped>\n",
       "    .dataframe tbody tr th:only-of-type {\n",
       "        vertical-align: middle;\n",
       "    }\n",
       "\n",
       "    .dataframe tbody tr th {\n",
       "        vertical-align: top;\n",
       "    }\n",
       "\n",
       "    .dataframe thead th {\n",
       "        text-align: right;\n",
       "    }\n",
       "</style>\n",
       "<table border=\"1\" class=\"dataframe\">\n",
       "  <thead>\n",
       "    <tr style=\"text-align: right;\">\n",
       "      <th></th>\n",
       "      <th>0</th>\n",
       "      <th>1</th>\n",
       "      <th>10</th>\n",
       "      <th>100</th>\n",
       "      <th>2</th>\n",
       "      <th>2010</th>\n",
       "      <th>3</th>\n",
       "      <th>4</th>\n",
       "      <th>5</th>\n",
       "      <th>7</th>\n",
       "      <th>...</th>\n",
       "      <th>we</th>\n",
       "      <th>what</th>\n",
       "      <th>when</th>\n",
       "      <th>who</th>\n",
       "      <th>will</th>\n",
       "      <th>with</th>\n",
       "      <th>would</th>\n",
       "      <th>www</th>\n",
       "      <th>you</th>\n",
       "      <th>your</th>\n",
       "    </tr>\n",
       "  </thead>\n",
       "  <tbody>\n",
       "    <tr>\n",
       "      <th>0</th>\n",
       "      <td>0.0</td>\n",
       "      <td>1.0</td>\n",
       "      <td>0.0</td>\n",
       "      <td>0.0</td>\n",
       "      <td>1.0</td>\n",
       "      <td>0.0</td>\n",
       "      <td>0.0</td>\n",
       "      <td>0.0</td>\n",
       "      <td>0.0</td>\n",
       "      <td>0.0</td>\n",
       "      <td>...</td>\n",
       "      <td>0.0</td>\n",
       "      <td>2.0</td>\n",
       "      <td>1.0</td>\n",
       "      <td>0.0</td>\n",
       "      <td>0.0</td>\n",
       "      <td>0.0</td>\n",
       "      <td>1.0</td>\n",
       "      <td>0.0</td>\n",
       "      <td>3.0</td>\n",
       "      <td>2.0</td>\n",
       "    </tr>\n",
       "    <tr>\n",
       "      <th>1</th>\n",
       "      <td>0.0</td>\n",
       "      <td>0.0</td>\n",
       "      <td>0.0</td>\n",
       "      <td>0.0</td>\n",
       "      <td>1.0</td>\n",
       "      <td>0.0</td>\n",
       "      <td>0.0</td>\n",
       "      <td>0.0</td>\n",
       "      <td>0.0</td>\n",
       "      <td>0.0</td>\n",
       "      <td>...</td>\n",
       "      <td>0.0</td>\n",
       "      <td>2.0</td>\n",
       "      <td>0.0</td>\n",
       "      <td>0.0</td>\n",
       "      <td>0.0</td>\n",
       "      <td>1.0</td>\n",
       "      <td>0.0</td>\n",
       "      <td>0.0</td>\n",
       "      <td>2.0</td>\n",
       "      <td>0.0</td>\n",
       "    </tr>\n",
       "    <tr>\n",
       "      <th>2</th>\n",
       "      <td>7.0</td>\n",
       "      <td>17.0</td>\n",
       "      <td>11.0</td>\n",
       "      <td>10.0</td>\n",
       "      <td>23.0</td>\n",
       "      <td>2.0</td>\n",
       "      <td>15.0</td>\n",
       "      <td>7.0</td>\n",
       "      <td>8.0</td>\n",
       "      <td>7.0</td>\n",
       "      <td>...</td>\n",
       "      <td>1.0</td>\n",
       "      <td>0.0</td>\n",
       "      <td>0.0</td>\n",
       "      <td>1.0</td>\n",
       "      <td>0.0</td>\n",
       "      <td>8.0</td>\n",
       "      <td>1.0</td>\n",
       "      <td>0.0</td>\n",
       "      <td>11.0</td>\n",
       "      <td>3.0</td>\n",
       "    </tr>\n",
       "    <tr>\n",
       "      <th>3</th>\n",
       "      <td>0.0</td>\n",
       "      <td>0.0</td>\n",
       "      <td>0.0</td>\n",
       "      <td>0.0</td>\n",
       "      <td>1.0</td>\n",
       "      <td>0.0</td>\n",
       "      <td>0.0</td>\n",
       "      <td>1.0</td>\n",
       "      <td>0.0</td>\n",
       "      <td>0.0</td>\n",
       "      <td>...</td>\n",
       "      <td>0.0</td>\n",
       "      <td>0.0</td>\n",
       "      <td>0.0</td>\n",
       "      <td>0.0</td>\n",
       "      <td>0.0</td>\n",
       "      <td>0.0</td>\n",
       "      <td>0.0</td>\n",
       "      <td>0.0</td>\n",
       "      <td>0.0</td>\n",
       "      <td>0.0</td>\n",
       "    </tr>\n",
       "    <tr>\n",
       "      <th>4</th>\n",
       "      <td>0.0</td>\n",
       "      <td>0.0</td>\n",
       "      <td>0.0</td>\n",
       "      <td>0.0</td>\n",
       "      <td>0.0</td>\n",
       "      <td>0.0</td>\n",
       "      <td>0.0</td>\n",
       "      <td>1.0</td>\n",
       "      <td>0.0</td>\n",
       "      <td>0.0</td>\n",
       "      <td>...</td>\n",
       "      <td>0.0</td>\n",
       "      <td>0.0</td>\n",
       "      <td>0.0</td>\n",
       "      <td>0.0</td>\n",
       "      <td>0.0</td>\n",
       "      <td>0.0</td>\n",
       "      <td>0.0</td>\n",
       "      <td>0.0</td>\n",
       "      <td>0.0</td>\n",
       "      <td>0.0</td>\n",
       "    </tr>\n",
       "    <tr>\n",
       "      <th>...</th>\n",
       "      <td>...</td>\n",
       "      <td>...</td>\n",
       "      <td>...</td>\n",
       "      <td>...</td>\n",
       "      <td>...</td>\n",
       "      <td>...</td>\n",
       "      <td>...</td>\n",
       "      <td>...</td>\n",
       "      <td>...</td>\n",
       "      <td>...</td>\n",
       "      <td>...</td>\n",
       "      <td>...</td>\n",
       "      <td>...</td>\n",
       "      <td>...</td>\n",
       "      <td>...</td>\n",
       "      <td>...</td>\n",
       "      <td>...</td>\n",
       "      <td>...</td>\n",
       "      <td>...</td>\n",
       "      <td>...</td>\n",
       "      <td>...</td>\n",
       "    </tr>\n",
       "    <tr>\n",
       "      <th>231</th>\n",
       "      <td>3.0</td>\n",
       "      <td>118.0</td>\n",
       "      <td>39.0</td>\n",
       "      <td>68.0</td>\n",
       "      <td>108.0</td>\n",
       "      <td>3.0</td>\n",
       "      <td>39.0</td>\n",
       "      <td>44.0</td>\n",
       "      <td>46.0</td>\n",
       "      <td>32.0</td>\n",
       "      <td>...</td>\n",
       "      <td>549.0</td>\n",
       "      <td>330.0</td>\n",
       "      <td>206.0</td>\n",
       "      <td>391.0</td>\n",
       "      <td>891.0</td>\n",
       "      <td>1797.0</td>\n",
       "      <td>262.0</td>\n",
       "      <td>0.0</td>\n",
       "      <td>1189.0</td>\n",
       "      <td>693.0</td>\n",
       "    </tr>\n",
       "    <tr>\n",
       "      <th>232</th>\n",
       "      <td>4.0</td>\n",
       "      <td>242.0</td>\n",
       "      <td>63.0</td>\n",
       "      <td>159.0</td>\n",
       "      <td>251.0</td>\n",
       "      <td>0.0</td>\n",
       "      <td>139.0</td>\n",
       "      <td>155.0</td>\n",
       "      <td>77.0</td>\n",
       "      <td>70.0</td>\n",
       "      <td>...</td>\n",
       "      <td>555.0</td>\n",
       "      <td>373.0</td>\n",
       "      <td>245.0</td>\n",
       "      <td>470.0</td>\n",
       "      <td>541.0</td>\n",
       "      <td>1099.0</td>\n",
       "      <td>250.0</td>\n",
       "      <td>0.0</td>\n",
       "      <td>1430.0</td>\n",
       "      <td>455.0</td>\n",
       "    </tr>\n",
       "    <tr>\n",
       "      <th>233</th>\n",
       "      <td>0.0</td>\n",
       "      <td>4.0</td>\n",
       "      <td>0.0</td>\n",
       "      <td>1.0</td>\n",
       "      <td>5.0</td>\n",
       "      <td>1.0</td>\n",
       "      <td>5.0</td>\n",
       "      <td>2.0</td>\n",
       "      <td>1.0</td>\n",
       "      <td>1.0</td>\n",
       "      <td>...</td>\n",
       "      <td>37.0</td>\n",
       "      <td>13.0</td>\n",
       "      <td>4.0</td>\n",
       "      <td>34.0</td>\n",
       "      <td>27.0</td>\n",
       "      <td>40.0</td>\n",
       "      <td>14.0</td>\n",
       "      <td>0.0</td>\n",
       "      <td>52.0</td>\n",
       "      <td>18.0</td>\n",
       "    </tr>\n",
       "    <tr>\n",
       "      <th>234</th>\n",
       "      <td>0.0</td>\n",
       "      <td>6.0</td>\n",
       "      <td>2.0</td>\n",
       "      <td>1.0</td>\n",
       "      <td>3.0</td>\n",
       "      <td>0.0</td>\n",
       "      <td>0.0</td>\n",
       "      <td>3.0</td>\n",
       "      <td>4.0</td>\n",
       "      <td>5.0</td>\n",
       "      <td>...</td>\n",
       "      <td>26.0</td>\n",
       "      <td>5.0</td>\n",
       "      <td>12.0</td>\n",
       "      <td>11.0</td>\n",
       "      <td>11.0</td>\n",
       "      <td>17.0</td>\n",
       "      <td>7.0</td>\n",
       "      <td>0.0</td>\n",
       "      <td>50.0</td>\n",
       "      <td>11.0</td>\n",
       "    </tr>\n",
       "    <tr>\n",
       "      <th>235</th>\n",
       "      <td>0.0</td>\n",
       "      <td>0.0</td>\n",
       "      <td>0.0</td>\n",
       "      <td>0.0</td>\n",
       "      <td>0.0</td>\n",
       "      <td>0.0</td>\n",
       "      <td>0.0</td>\n",
       "      <td>0.0</td>\n",
       "      <td>0.0</td>\n",
       "      <td>0.0</td>\n",
       "      <td>...</td>\n",
       "      <td>0.0</td>\n",
       "      <td>0.0</td>\n",
       "      <td>0.0</td>\n",
       "      <td>0.0</td>\n",
       "      <td>0.0</td>\n",
       "      <td>0.0</td>\n",
       "      <td>0.0</td>\n",
       "      <td>0.0</td>\n",
       "      <td>0.0</td>\n",
       "      <td>0.0</td>\n",
       "    </tr>\n",
       "  </tbody>\n",
       "</table>\n",
       "<p>236 rows × 170 columns</p>\n",
       "</div>"
      ],
      "text/plain": [
       "       0      1    10    100      2  2010      3      4     5     7  ...  \\\n",
       "0    0.0    1.0   0.0    0.0    1.0   0.0    0.0    0.0   0.0   0.0  ...   \n",
       "1    0.0    0.0   0.0    0.0    1.0   0.0    0.0    0.0   0.0   0.0  ...   \n",
       "2    7.0   17.0  11.0   10.0   23.0   2.0   15.0    7.0   8.0   7.0  ...   \n",
       "3    0.0    0.0   0.0    0.0    1.0   0.0    0.0    1.0   0.0   0.0  ...   \n",
       "4    0.0    0.0   0.0    0.0    0.0   0.0    0.0    1.0   0.0   0.0  ...   \n",
       "..   ...    ...   ...    ...    ...   ...    ...    ...   ...   ...  ...   \n",
       "231  3.0  118.0  39.0   68.0  108.0   3.0   39.0   44.0  46.0  32.0  ...   \n",
       "232  4.0  242.0  63.0  159.0  251.0   0.0  139.0  155.0  77.0  70.0  ...   \n",
       "233  0.0    4.0   0.0    1.0    5.0   1.0    5.0    2.0   1.0   1.0  ...   \n",
       "234  0.0    6.0   2.0    1.0    3.0   0.0    0.0    3.0   4.0   5.0  ...   \n",
       "235  0.0    0.0   0.0    0.0    0.0   0.0    0.0    0.0   0.0   0.0  ...   \n",
       "\n",
       "        we   what   when    who   will    with  would  www     you   your  \n",
       "0      0.0    2.0    1.0    0.0    0.0     0.0    1.0  0.0     3.0    2.0  \n",
       "1      0.0    2.0    0.0    0.0    0.0     1.0    0.0  0.0     2.0    0.0  \n",
       "2      1.0    0.0    0.0    1.0    0.0     8.0    1.0  0.0    11.0    3.0  \n",
       "3      0.0    0.0    0.0    0.0    0.0     0.0    0.0  0.0     0.0    0.0  \n",
       "4      0.0    0.0    0.0    0.0    0.0     0.0    0.0  0.0     0.0    0.0  \n",
       "..     ...    ...    ...    ...    ...     ...    ...  ...     ...    ...  \n",
       "231  549.0  330.0  206.0  391.0  891.0  1797.0  262.0  0.0  1189.0  693.0  \n",
       "232  555.0  373.0  245.0  470.0  541.0  1099.0  250.0  0.0  1430.0  455.0  \n",
       "233   37.0   13.0    4.0   34.0   27.0    40.0   14.0  0.0    52.0   18.0  \n",
       "234   26.0    5.0   12.0   11.0   11.0    17.0    7.0  0.0    50.0   11.0  \n",
       "235    0.0    0.0    0.0    0.0    0.0     0.0    0.0  0.0     0.0    0.0  \n",
       "\n",
       "[236 rows x 170 columns]"
      ]
     },
     "execution_count": 71,
     "metadata": {},
     "output_type": "execute_result"
    }
   ],
   "source": [
    "russia_token_df"
   ]
  },
  {
   "cell_type": "code",
   "execution_count": 72,
   "id": "a4dcc807-f6a2-4c08-adfd-0e8f7e8ca6b7",
   "metadata": {},
   "outputs": [],
   "source": [
    "with open('filt_tokens.pkl', 'rb') as f:\n",
    "      bots_tokens = pickle.load(f)\n",
    "        \n",
    "bots_tokens_order = pd.read_csv(\"token_df.csv\").drop(\"bot_or_not\", axis =1).columns"
   ]
  },
  {
   "cell_type": "code",
   "execution_count": 73,
   "id": "5a9d94f9-18bb-401f-a63d-960b3d2b5cd0",
   "metadata": {},
   "outputs": [],
   "source": [
    "def add_missing_words(df):\n",
    "    words_in_data = df.columns\n",
    "    missing_words = [i for i in bots_tokens_order if i not in words_in_data]\n",
    "    \n",
    "    df_fix = df.copy() \n",
    "    for i in missing_words:\n",
    "        df_fix[i] = np.repeat(0, df_fix.shape[0])\n",
    "     \n",
    "    \n",
    "    # Reorder columns to order in tokens\n",
    "    df_fix = df_fix[bots_tokens_order]\n",
    "    return(df_fix)"
   ]
  },
  {
   "cell_type": "code",
   "execution_count": 74,
   "id": "003504cb-4556-4b22-aac6-ad296b1622e8",
   "metadata": {},
   "outputs": [],
   "source": [
    "russia_token_df = add_missing_words(russia_token_df)"
   ]
  },
  {
   "cell_type": "code",
   "execution_count": 75,
   "id": "64cfb6d1-085d-48fa-8e84-87f55ec9726c",
   "metadata": {},
   "outputs": [],
   "source": [
    "russia_token_df.to_csv(\"rusian_token_df.csv\", index = False)"
   ]
  },
  {
   "cell_type": "code",
   "execution_count": 76,
   "id": "fdce4a11-e6e7-420a-bb97-a02c90cfbb7f",
   "metadata": {},
   "outputs": [
    {
     "data": {
      "text/plain": [
       "0.3432203389830508"
      ]
     },
     "execution_count": 76,
     "metadata": {},
     "output_type": "execute_result"
    }
   ],
   "source": [
    "nb.score(russia_token_df, russia_labels)"
   ]
  },
  {
   "cell_type": "code",
   "execution_count": null,
   "id": "f8d21a95-4d66-41aa-a9ac-2cc332da9b50",
   "metadata": {},
   "outputs": [],
   "source": []
  },
  {
   "cell_type": "code",
   "execution_count": null,
   "id": "655208aa-0da4-4753-8f23-d1594bc04725",
   "metadata": {},
   "outputs": [],
   "source": []
  },
  {
   "cell_type": "code",
   "execution_count": null,
   "id": "1303cf24-c398-4821-9095-9e6440fd1f8b",
   "metadata": {},
   "outputs": [],
   "source": []
  },
  {
   "cell_type": "code",
   "execution_count": null,
   "id": "91a5ae8f-d6bd-4f32-8855-6055b2d1902e",
   "metadata": {},
   "outputs": [],
   "source": []
  }
 ],
 "metadata": {
  "kernelspec": {
   "display_name": "Python 3 (ipykernel)",
   "language": "python",
   "name": "python3"
  },
  "language_info": {
   "codemirror_mode": {
    "name": "ipython",
    "version": 3
   },
   "file_extension": ".py",
   "mimetype": "text/x-python",
   "name": "python",
   "nbconvert_exporter": "python",
   "pygments_lexer": "ipython3",
   "version": "3.7.7"
  }
 },
 "nbformat": 4,
 "nbformat_minor": 5
}
