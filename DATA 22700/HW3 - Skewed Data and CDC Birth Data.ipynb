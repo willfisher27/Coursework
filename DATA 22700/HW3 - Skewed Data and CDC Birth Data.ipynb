{
  "cells": [
    {
      "cell_type": "raw",
      "source": [
        "---\n",
        "title: \"Data227 HW3\"\n",
        "format: pdf\n",
        "jupyter: python3\n",
        "---"
      ],
      "metadata": {}
    },
    {
      "cell_type": "code",
      "execution_count": 2,
      "source": [
        "import pandas as pd\n",
        "import matplotlib.pyplot as plt\n",
        "import numpy as np"
      ],
      "outputs": [],
      "metadata": {}
    },
    {
      "cell_type": "code",
      "execution_count": 3,
      "source": [
        "#Problem1\n",
        "fireballs = pd.read_csv('cneos_fireball_data.csv')"
      ],
      "outputs": [],
      "metadata": {}
    },
    {
      "cell_type": "markdown",
      "source": [
        "1a. All the variables should be numerical, except for peak brightness date/time which should be a date time object. Altitude, velocity, and energy are all quantitative measures and even latitude and longitude are best represented with numbers, where negation is the difference between east and west or north and south. "
      ],
      "metadata": {}
    },
    {
      "cell_type": "code",
      "execution_count": 4,
      "source": [
        "fireballs"
      ],
      "outputs": [
        {
          "output_type": "execute_result",
          "data": {
            "text/html": [
              "<div>\n",
              "<style scoped>\n",
              "    .dataframe tbody tr th:only-of-type {\n",
              "        vertical-align: middle;\n",
              "    }\n",
              "\n",
              "    .dataframe tbody tr th {\n",
              "        vertical-align: top;\n",
              "    }\n",
              "\n",
              "    .dataframe thead th {\n",
              "        text-align: right;\n",
              "    }\n",
              "</style>\n",
              "<table border=\"1\" class=\"dataframe\">\n",
              "  <thead>\n",
              "    <tr style=\"text-align: right;\">\n",
              "      <th></th>\n",
              "      <th>Peak Brightness Date/Time (UT)</th>\n",
              "      <th>Latitude (deg.)</th>\n",
              "      <th>Longitude (deg.)</th>\n",
              "      <th>Altitude (km)</th>\n",
              "      <th>Velocity (km/s)</th>\n",
              "      <th>vx</th>\n",
              "      <th>vy</th>\n",
              "      <th>vz</th>\n",
              "      <th>Total Radiated Energy (J)</th>\n",
              "      <th>Calculated Total Impact Energy (kt)</th>\n",
              "    </tr>\n",
              "  </thead>\n",
              "  <tbody>\n",
              "    <tr>\n",
              "      <th>0</th>\n",
              "      <td>2022-09-15 02:49:02</td>\n",
              "      <td>22.7N</td>\n",
              "      <td>97.6E</td>\n",
              "      <td>31.5</td>\n",
              "      <td>NaN</td>\n",
              "      <td>NaN</td>\n",
              "      <td>NaN</td>\n",
              "      <td>NaN</td>\n",
              "      <td>2.700000e+10</td>\n",
              "      <td>0.095</td>\n",
              "    </tr>\n",
              "    <tr>\n",
              "      <th>1</th>\n",
              "      <td>2022-09-14 23:31:15</td>\n",
              "      <td>40.8N</td>\n",
              "      <td>63.4E</td>\n",
              "      <td>35.8</td>\n",
              "      <td>17.4</td>\n",
              "      <td>-13.9</td>\n",
              "      <td>-4.3</td>\n",
              "      <td>9.5</td>\n",
              "      <td>3.200000e+10</td>\n",
              "      <td>0.110</td>\n",
              "    </tr>\n",
              "    <tr>\n",
              "      <th>2</th>\n",
              "      <td>2022-09-04 03:54:55</td>\n",
              "      <td>20.0N</td>\n",
              "      <td>165.9E</td>\n",
              "      <td>14.0</td>\n",
              "      <td>21.9</td>\n",
              "      <td>18.4</td>\n",
              "      <td>-11.4</td>\n",
              "      <td>-3.5</td>\n",
              "      <td>2.400000e+10</td>\n",
              "      <td>0.086</td>\n",
              "    </tr>\n",
              "    <tr>\n",
              "      <th>3</th>\n",
              "      <td>2022-08-21 16:35:49</td>\n",
              "      <td>6.3S</td>\n",
              "      <td>51.5E</td>\n",
              "      <td>37.0</td>\n",
              "      <td>NaN</td>\n",
              "      <td>NaN</td>\n",
              "      <td>NaN</td>\n",
              "      <td>NaN</td>\n",
              "      <td>2.100000e+10</td>\n",
              "      <td>0.076</td>\n",
              "    </tr>\n",
              "    <tr>\n",
              "      <th>4</th>\n",
              "      <td>2022-08-14 07:39:18</td>\n",
              "      <td>35.0S</td>\n",
              "      <td>78.4E</td>\n",
              "      <td>55.5</td>\n",
              "      <td>NaN</td>\n",
              "      <td>NaN</td>\n",
              "      <td>NaN</td>\n",
              "      <td>NaN</td>\n",
              "      <td>4.680000e+11</td>\n",
              "      <td>1.200</td>\n",
              "    </tr>\n",
              "    <tr>\n",
              "      <th>...</th>\n",
              "      <td>...</td>\n",
              "      <td>...</td>\n",
              "      <td>...</td>\n",
              "      <td>...</td>\n",
              "      <td>...</td>\n",
              "      <td>...</td>\n",
              "      <td>...</td>\n",
              "      <td>...</td>\n",
              "      <td>...</td>\n",
              "      <td>...</td>\n",
              "    </tr>\n",
              "    <tr>\n",
              "      <th>927</th>\n",
              "      <td>1993-11-29 17:48:41</td>\n",
              "      <td>26.5N</td>\n",
              "      <td>78.3E</td>\n",
              "      <td>NaN</td>\n",
              "      <td>NaN</td>\n",
              "      <td>NaN</td>\n",
              "      <td>NaN</td>\n",
              "      <td>NaN</td>\n",
              "      <td>2.600000e+10</td>\n",
              "      <td>0.092</td>\n",
              "    </tr>\n",
              "    <tr>\n",
              "      <th>928</th>\n",
              "      <td>1993-10-31 03:39:27</td>\n",
              "      <td>51.3N</td>\n",
              "      <td>100.9W</td>\n",
              "      <td>NaN</td>\n",
              "      <td>NaN</td>\n",
              "      <td>NaN</td>\n",
              "      <td>NaN</td>\n",
              "      <td>NaN</td>\n",
              "      <td>4.000000e+10</td>\n",
              "      <td>0.130</td>\n",
              "    </tr>\n",
              "    <tr>\n",
              "      <th>929</th>\n",
              "      <td>1991-10-04 09:22:47</td>\n",
              "      <td>78.7N</td>\n",
              "      <td>6.3E</td>\n",
              "      <td>NaN</td>\n",
              "      <td>NaN</td>\n",
              "      <td>NaN</td>\n",
              "      <td>NaN</td>\n",
              "      <td>NaN</td>\n",
              "      <td>5.500000e+11</td>\n",
              "      <td>1.400</td>\n",
              "    </tr>\n",
              "    <tr>\n",
              "      <th>930</th>\n",
              "      <td>1990-10-01 03:51:47</td>\n",
              "      <td>7.5N</td>\n",
              "      <td>142.8E</td>\n",
              "      <td>NaN</td>\n",
              "      <td>NaN</td>\n",
              "      <td>NaN</td>\n",
              "      <td>NaN</td>\n",
              "      <td>NaN</td>\n",
              "      <td>2.500000e+12</td>\n",
              "      <td>5.200</td>\n",
              "    </tr>\n",
              "    <tr>\n",
              "      <th>931</th>\n",
              "      <td>1988-04-15 03:03:10</td>\n",
              "      <td>4.1S</td>\n",
              "      <td>124.3E</td>\n",
              "      <td>NaN</td>\n",
              "      <td>NaN</td>\n",
              "      <td>NaN</td>\n",
              "      <td>NaN</td>\n",
              "      <td>NaN</td>\n",
              "      <td>7.580000e+12</td>\n",
              "      <td>14.000</td>\n",
              "    </tr>\n",
              "  </tbody>\n",
              "</table>\n",
              "<p>932 rows × 10 columns</p>\n",
              "</div>"
            ],
            "text/plain": [
              "    Peak Brightness Date/Time (UT) Latitude (deg.) Longitude (deg.)  \\\n",
              "0              2022-09-15 02:49:02           22.7N            97.6E   \n",
              "1              2022-09-14 23:31:15           40.8N            63.4E   \n",
              "2              2022-09-04 03:54:55           20.0N           165.9E   \n",
              "3              2022-08-21 16:35:49            6.3S            51.5E   \n",
              "4              2022-08-14 07:39:18           35.0S            78.4E   \n",
              "..                             ...             ...              ...   \n",
              "927            1993-11-29 17:48:41           26.5N            78.3E   \n",
              "928            1993-10-31 03:39:27           51.3N           100.9W   \n",
              "929            1991-10-04 09:22:47           78.7N             6.3E   \n",
              "930            1990-10-01 03:51:47            7.5N           142.8E   \n",
              "931            1988-04-15 03:03:10            4.1S           124.3E   \n",
              "\n",
              "     Altitude (km)  Velocity (km/s)    vx    vy   vz  \\\n",
              "0             31.5              NaN   NaN   NaN  NaN   \n",
              "1             35.8             17.4 -13.9  -4.3  9.5   \n",
              "2             14.0             21.9  18.4 -11.4 -3.5   \n",
              "3             37.0              NaN   NaN   NaN  NaN   \n",
              "4             55.5              NaN   NaN   NaN  NaN   \n",
              "..             ...              ...   ...   ...  ...   \n",
              "927            NaN              NaN   NaN   NaN  NaN   \n",
              "928            NaN              NaN   NaN   NaN  NaN   \n",
              "929            NaN              NaN   NaN   NaN  NaN   \n",
              "930            NaN              NaN   NaN   NaN  NaN   \n",
              "931            NaN              NaN   NaN   NaN  NaN   \n",
              "\n",
              "     Total Radiated Energy (J)  Calculated Total Impact Energy (kt)  \n",
              "0                 2.700000e+10                                0.095  \n",
              "1                 3.200000e+10                                0.110  \n",
              "2                 2.400000e+10                                0.086  \n",
              "3                 2.100000e+10                                0.076  \n",
              "4                 4.680000e+11                                1.200  \n",
              "..                         ...                                  ...  \n",
              "927               2.600000e+10                                0.092  \n",
              "928               4.000000e+10                                0.130  \n",
              "929               5.500000e+11                                1.400  \n",
              "930               2.500000e+12                                5.200  \n",
              "931               7.580000e+12                               14.000  \n",
              "\n",
              "[932 rows x 10 columns]"
            ]
          },
          "metadata": {},
          "execution_count": 4
        }
      ],
      "metadata": {}
    },
    {
      "cell_type": "code",
      "execution_count": 5,
      "source": [
        "#1b\n",
        "fireballs.columns = ['Peak.Brightness.Date.Time', 'Latitude', 'Longitude', 'Altitude', 'Velocity', 'vx', 'vy', 'vz', 'Total.Radiated.Energy', 'Calculated.Total.Impact.Energy']"
      ],
      "outputs": [],
      "metadata": {}
    },
    {
      "cell_type": "code",
      "execution_count": null,
      "source": [
        "new_lat = []\n",
        "for lat in fireballs['Latitude'].tolist():\n",
        "    if type(lat)==str:\n",
        "        if 'N' in lat:\n",
        "            l = float(lat[:-1])\n",
        "        else:\n",
        "            l = float(lat[:-1]) * -1\n",
        "    new_lat.append(l)\n",
        "new_long = []\n",
        "for lon in fireballs['Longitude'].tolist():\n",
        "    if type(lon) == str:\n",
        "        if 'E' in lon:\n",
        "            l = float(lon[:-1])\n",
        "        else:\n",
        "            l = float(lon[:-1]) * -1\n",
        "    new_long.append(l)\n",
        "fireballs['Latitude'] = new_lat\n",
        "fireballs['Longitude'] = new_long"
      ],
      "outputs": [],
      "metadata": {}
    },
    {
      "cell_type": "markdown",
      "source": [
        "1b. The variables largely matched my expectetations, with the exception of latitude and longitude, which were represented as strings. These variables were converted to floats, with east as positive for longitude and north as positive for latitude. "
      ],
      "metadata": {}
    },
    {
      "cell_type": "code",
      "execution_count": 51,
      "source": [
        "#1c\n",
        "plt.hist(fireballs['Longitude'], 20)\n",
        "plt.title('Frequency of Fireballs by Longitude Bin', fontsize=14)\n",
        "plt.xlabel('Longitude (°E)', fontsize=12)\n",
        "plt.ylabel('Frequency', fontsize=12)\n",
        "plt.show()"
      ],
      "outputs": [
        {
          "output_type": "display_data",
          "data": {
            "image/png": "[encoded data removed]",
            "text/plain": [
              "<Figure size 432x288 with 1 Axes>"
            ]
          },
          "metadata": {
            "needs_background": "light"
          }
        }
      ],
      "metadata": {}
    },
    {
      "cell_type": "markdown",
      "source": [
        "1c. The spread of longitudes is from -180°E to 180°E, covering the circumference of the Earth. The distribution of the longitudinal locations of the fireballs is close to uniform, but not perfectly so. The center is towards the middle of the graph, but it has multimodal peaks. There is no oscillating pattern, making it most closely related to something uniformly distributed. I would have expected something closer to being perfectly uniform, but this may just be due to randomness in the data. Perhaps a dataset of 10000 fireballs, as opposed to about 1000, would result in a more even distribution than the one above. "
      ],
      "metadata": {}
    },
    {
      "cell_type": "code",
      "execution_count": 55,
      "source": [
        "#1d\n",
        "plt.hist(fireballs['Calculated.Total.Impact.Energy'], bins=100)\n",
        "plt.title('Frequency of Fireballs by Total Impact Energy', fontsize=14)\n",
        "plt.xlabel('Total Impact Energy (kt)', fontsize=12)\n",
        "plt.ylabel('Frequency', fontsize=12)\n",
        "plt.show()"
      ],
      "outputs": [
        {
          "output_type": "display_data",
          "data": {
            "image/png": "[encoded data removed]",
            "text/plain": [
              "<Figure size 432x288 with 1 Axes>"
            ]
          },
          "metadata": {
            "needs_background": "light"
          }
        }
      ],
      "metadata": {}
    },
    {
      "cell_type": "code",
      "execution_count": 56,
      "source": [
        "energy_balls = [i for i in fireballs['Calculated.Total.Impact.Energy'].tolist() if i < 20]\n",
        "plt.hist(energy_balls, bins=100)\n",
        "plt.title('Frequency of Fireballs by Total Impact Energy for <20kt', fontsize=14)\n",
        "plt.xlabel('Total Impact Energy (kt)', fontsize=12)\n",
        "plt.ylabel('Frequency', fontsize=12)\n",
        "plt.show()"
      ],
      "outputs": [
        {
          "output_type": "display_data",
          "data": {
            "image/png": "[encoded data removed]",
            "text/plain": [
              "<Figure size 432x288 with 1 Axes>"
            ]
          },
          "metadata": {
            "needs_background": "light"
          }
        }
      ],
      "metadata": {}
    },
    {
      "cell_type": "markdown",
      "source": [
        "1d. The distribution of total impact energy is very right-skewed and the spread is from 0 to over 400 for the full range of values in the first histogram. Looking at the first histogram, it is clear that almost all fireballs were in the bin with less than 5kt of impact energy given off. Looking at the second one, which excludes those with greater than or equal to 20kt of impact energy, we can see that really almost all of the fireballs gave off an impact energy between 0 and 0.2 kt and confirm that that is where the center of the distribution is. Meanwhile, there is a massive outlier in the first histogram at over 400kt of impact energy, making the distribution seem even more dramatically right skewed than it is. Furthermore, looking at the second histogram, even fireballs with more than 7.5kt of impact energy should be considered outliers, given how much greater they are than the mean and median fireball impact energies. This is largely to be expected - it makes sense that of the hundreds objects that impacted the earth, most were quite small. Otherwise, there would be many more noticeable events of fireballs hitting the earth than we are normally aware of. "
      ],
      "metadata": {}
    },
    {
      "cell_type": "code",
      "execution_count": 60,
      "source": [
        "#1e\n",
        "bins = 10**(np.arange(-1.5,3,0.05))\n",
        "plt.xscale('log')\n",
        "plt.hist(fireballs['Calculated.Total.Impact.Energy'],bins=bins) \n",
        "plt.title('Frequency of Fireballs by Total Impact Energy with Log X-axis', fontsize=14)\n",
        "plt.xlabel('Log Scale of Total Impact Energy (kt)', fontsize=12)\n",
        "plt.ylabel('Frequency', fontsize=12)\n",
        "plt.show()"
      ],
      "outputs": [
        {
          "output_type": "display_data",
          "data": {
            "image/png": "[encoded data removed]",
            "text/plain": [
              "<Figure size 432x288 with 1 Axes>"
            ]
          },
          "metadata": {
            "needs_background": "light"
          }
        }
      ],
      "metadata": {}
    },
    {
      "cell_type": "markdown",
      "source": [
        "1e. Using a log scale, the distribution of the histogram is still right-skewed, although not nearly as dramatically as it was before. The center is still in the same place, since almost all of the energies are bewtween 10^-1 and 10^-1/3. Some of the outliers don't look quite as much like outliers this way, with the definition for outliers looking like it should be applied to values beyond 15 than 7.5. Otherwise, the details of the graph are largely the same, with the most dramatic outliers still identifiable as outliers and the shape of the graph pretty similar, if not quite so steep. "
      ],
      "metadata": {}
    },
    {
      "cell_type": "code",
      "execution_count": 15,
      "source": [
        "df = pd.read_fwf('nat2021us.txt')"
      ],
      "outputs": [],
      "metadata": {}
    },
    {
      "cell_type": "code",
      "execution_count": 17,
      "source": [
        "colspecs = [(12,14), (119,120)]\n",
        "df = pd.read_fwf('nat2021us.txt', colspecs=colspecs)\n",
        "df"
      ],
      "outputs": [
        {
          "output_type": "execute_result",
          "data": {
            "text/html": [
              "<div>\n",
              "<style scoped>\n",
              "    .dataframe tbody tr th:only-of-type {\n",
              "        vertical-align: middle;\n",
              "    }\n",
              "\n",
              "    .dataframe tbody tr th {\n",
              "        vertical-align: top;\n",
              "    }\n",
              "\n",
              "    .dataframe thead th {\n",
              "        text-align: right;\n",
              "    }\n",
              "</style>\n",
              "<table border=\"1\" class=\"dataframe\">\n",
              "  <thead>\n",
              "    <tr style=\"text-align: right;\">\n",
              "      <th></th>\n",
              "      <th>01</th>\n",
              "      <th>1</th>\n",
              "    </tr>\n",
              "  </thead>\n",
              "  <tbody>\n",
              "    <tr>\n",
              "      <th>0</th>\n",
              "      <td>1</td>\n",
              "      <td>2.0</td>\n",
              "    </tr>\n",
              "    <tr>\n",
              "      <th>1</th>\n",
              "      <td>1</td>\n",
              "      <td>2.0</td>\n",
              "    </tr>\n",
              "    <tr>\n",
              "      <th>2</th>\n",
              "      <td>1</td>\n",
              "      <td>2.0</td>\n",
              "    </tr>\n",
              "    <tr>\n",
              "      <th>3</th>\n",
              "      <td>1</td>\n",
              "      <td>2.0</td>\n",
              "    </tr>\n",
              "    <tr>\n",
              "      <th>4</th>\n",
              "      <td>1</td>\n",
              "      <td>1.0</td>\n",
              "    </tr>\n",
              "    <tr>\n",
              "      <th>...</th>\n",
              "      <td>...</td>\n",
              "      <td>...</td>\n",
              "    </tr>\n",
              "    <tr>\n",
              "      <th>3669922</th>\n",
              "      <td>12</td>\n",
              "      <td>1.0</td>\n",
              "    </tr>\n",
              "    <tr>\n",
              "      <th>3669923</th>\n",
              "      <td>10</td>\n",
              "      <td>2.0</td>\n",
              "    </tr>\n",
              "    <tr>\n",
              "      <th>3669924</th>\n",
              "      <td>12</td>\n",
              "      <td>1.0</td>\n",
              "    </tr>\n",
              "    <tr>\n",
              "      <th>3669925</th>\n",
              "      <td>6</td>\n",
              "      <td>2.0</td>\n",
              "    </tr>\n",
              "    <tr>\n",
              "      <th>3669926</th>\n",
              "      <td>4</td>\n",
              "      <td>2.0</td>\n",
              "    </tr>\n",
              "  </tbody>\n",
              "</table>\n",
              "<p>3669927 rows × 2 columns</p>\n",
              "</div>"
            ],
            "text/plain": [
              "         01    1\n",
              "0         1  2.0\n",
              "1         1  2.0\n",
              "2         1  2.0\n",
              "3         1  2.0\n",
              "4         1  1.0\n",
              "...      ..  ...\n",
              "3669922  12  1.0\n",
              "3669923  10  2.0\n",
              "3669924  12  1.0\n",
              "3669925   6  2.0\n",
              "3669926   4  2.0\n",
              "\n",
              "[3669927 rows x 2 columns]"
            ]
          },
          "metadata": {},
          "execution_count": 17
        }
      ],
      "metadata": {}
    },
    {
      "cell_type": "code",
      "execution_count": null,
      "source": [
        "birth_sample = df.sample(n=20000, random_state=1)\n",
        "birth_sample"
      ],
      "outputs": [],
      "metadata": {}
    },
    {
      "cell_type": "code",
      "execution_count": 19,
      "source": [
        "birth_sample.columns = ['Birth Month', 'Marital Status']"
      ],
      "outputs": [],
      "metadata": {}
    },
    {
      "cell_type": "code",
      "execution_count": 31,
      "source": [
        "married = birth_sample[birth_sample['Marital Status']==1.0]\n",
        "unmarried = birth_sample[birth_sample['Marital Status']==2.0]\n",
        "m_data = []\n",
        "u_data = []\n",
        "months = [1, 2, 3, 4, 5, 6, 7, 8, 9, 10, 11, 12]\n",
        "for month in months:\n",
        "    month_data1 = married[married['Birth Month']==month]\n",
        "    month_data2 = unmarried[unmarried['Birth Month']==month]\n",
        "    m_data.append(len(month_data1)/len(married))\n",
        "    u_data.append(len(month_data2)/len(unmarried))"
      ],
      "outputs": [],
      "metadata": {}
    },
    {
      "cell_type": "code",
      "execution_count": 48,
      "source": [
        "\n",
        "x = np.arange(1, len(months)+1)\n",
        "plt.bar(x-0.2, height=m_data, width=0.35, label='Married')\n",
        "plt.bar(x+0.2, height=u_data, width=0.35, label='Unmarried')\n",
        "plt.legend()\n",
        "plt.xticks(x)\n",
        "plt.yticks([0.00, 0.02, 0.04, 0.06, 0.08, 0.10, 0.12])\n",
        "plt.ylabel('Fraction of total babies born', fontsize=13)\n",
        "plt.xlabel('Month', fontsize=13)\n",
        "plt.title('Fraction of babies born by Married and Unmarried Couples Each Month', fontsize=14)\n",
        "plt.show()"
      ],
      "outputs": [
        {
          "output_type": "display_data",
          "data": {
            "image/png": "[encoded data removed]",
            "text/plain": [
              "<Figure size 432x288 with 1 Axes>"
            ]
          },
          "metadata": {
            "needs_background": "light"
          }
        }
      ],
      "metadata": {}
    },
    {
      "cell_type": "markdown",
      "source": [
        "Caption: The above figure is a bar graph displaying data Centers for Disease Control and Prevention Birth Data for the year 2021. Out of nearly 4 million samples in the data, a random sample of 20000 was selected for the visualization. The only columns used were the birth month and the marital status of the parent. The fraction of babies born in a given birth month out of the year for married and unmarried couples are displayed side by side on the graph. The month scale uses the traditional date convention where 1 is January and 12 is December."
      ],
      "metadata": {}
    },
    {
      "cell_type": "markdown",
      "source": [
        "Analysis: The above bar graph has multiple implications for births in the year 2021. For one, the highest frequency of births once again occurred during August, which is a continuation of previous trends. Previous research has suggested that this is usually the case because people are more likely to concieve during the holiday season. On a broader scale, the winter months in general tend to have much lower birth rates than the summer months. That being said, no months had less than 7% of and no more than 10% of total babies born during the month. The other dimension of this involves the timing of births for married versus unmarried couples. While some of the same trends exist, such as more births during the summer months and fewer births during winter, there are some differences between the two. Most notably, unmarried women are much more likely to give birth in January than married women, and less likely to give birth during March and April. There is little outside research on when married versus unmarried couples tend to have children, so this could just be a result of randomness from the year and/or the sample taken of the data. This could be supported by the distribution of times of married women giving birth being more uniform than the distribution of unmarried women giving birth, since there is a larger sample of married parents than unmarried parents in the sample data. However, the sample was randomly taken and is fairly large, meaning it should be largely representative, such that differences between married and unmarried birth times as large as those noticed are unlikely to just be random. For example, there could be some reason unexplored by research explaining why unmarried couples concieve more often than married ones in April, explaining the difference in birth rates in January. "
      ],
      "metadata": {}
    }
  ],
  "metadata": {
    "kernelspec": {
      "name": "python3",
      "display_name": "Python 3.9.7 64-bit"
    },
    "language_info": {
      "name": "python",
      "version": "3.9.7",
      "mimetype": "text/x-python",
      "codemirror_mode": {
        "name": "ipython",
        "version": 3
      },
      "pygments_lexer": "ipython3",
      "nbconvert_exporter": "python",
      "file_extension": ".py"
    },
    "interpreter": {
      "hash": "aee8b7b246df8f9039afb4144a1f6fd8d2ca17a180786b69acc140d282b71a49"
    }
  },
  "nbformat": 4,
  "nbformat_minor": 4
}